{
 "cells": [
  {
   "cell_type": "markdown",
   "metadata": {
    "id": "t9ZTSHNIHcnX"
   },
   "source": [
    "4_model_building_LSTM_F13\n",
    "-------------------\n",
    "Group , November 18, 2022\n",
    "1. Eduardo Garcia\n",
    "2. Nari Kim\n",
    "3. Thi Anh Ba Dang\n",
    "4. Vishnu Prabhakar\n",
    "5. VS Chaitanya Madduri\n",
    "6. Yumeng Zhang\n",
    "\n",
    "\n",
    "> <i>Description: Applying the LSTM model on the daily data.</i>\n",
    "\n",
    "\n",
    "- We are builing a basic model using the columns and the target provided in the intial dataset.\n",
    "\n",
    "- Used Feature Set 13 which are basic features and we have calculated the Lag and rolled data.\n",
    "\n",
    "\n",
    "### Pre requisites: \n",
    "1. And add the shortcut of the drive link : https://drive.google.com/drive/folders/1F8P3UlqSE6lFpHyBidVArdsXJLenKi3O?usp=share_link to your personal drive.\n",
    "\n",
    "\n",
    "Files:\n",
    "crypto_data_hour_cleaned_v2.csv - Hourly Data\n",
    "\n",
    "### Output files:\n",
    "\n",
    "Files:LSTM_tw28.h5\n",
    "\n"
   ]
  },
  {
   "cell_type": "code",
   "execution_count": null,
   "metadata": {
    "colab": {
     "base_uri": "https://localhost:8080/"
    },
    "executionInfo": {
     "elapsed": 7138,
     "status": "ok",
     "timestamp": 1668773109691,
     "user": {
      "displayName": "zhang yumeng",
      "userId": "05068513416601413411"
     },
     "user_tz": -60
    },
    "id": "uUMGCMRlBSpS",
    "outputId": "6fb648ac-4fcc-4ff0-9501-fe464cab13c1"
   },
   "outputs": [
    {
     "name": "stdout",
     "output_type": "stream",
     "text": [
      "Looking in indexes: https://pypi.org/simple, https://us-python.pkg.dev/colab-wheels/public/simple/\n",
      "Requirement already satisfied: tensorflow-addons in /usr/local/lib/python3.7/dist-packages (0.18.0)\n",
      "Requirement already satisfied: packaging in /usr/local/lib/python3.7/dist-packages (from tensorflow-addons) (21.3)\n",
      "Requirement already satisfied: typeguard>=2.7 in /usr/local/lib/python3.7/dist-packages (from tensorflow-addons) (2.7.1)\n",
      "Requirement already satisfied: pyparsing!=3.0.5,>=2.0.2 in /usr/local/lib/python3.7/dist-packages (from packaging->tensorflow-addons) (3.0.9)\n",
      "Looking in indexes: https://pypi.org/simple, https://us-python.pkg.dev/colab-wheels/public/simple/\n",
      "Requirement already satisfied: keras-tuner in /usr/local/lib/python3.7/dist-packages (1.1.3)\n",
      "Requirement already satisfied: requests in /usr/local/lib/python3.7/dist-packages (from keras-tuner) (2.23.0)\n",
      "Requirement already satisfied: numpy in /usr/local/lib/python3.7/dist-packages (from keras-tuner) (1.21.6)\n",
      "Requirement already satisfied: tensorboard in /usr/local/lib/python3.7/dist-packages (from keras-tuner) (2.9.1)\n",
      "Requirement already satisfied: ipython in /usr/local/lib/python3.7/dist-packages (from keras-tuner) (7.9.0)\n",
      "Requirement already satisfied: kt-legacy in /usr/local/lib/python3.7/dist-packages (from keras-tuner) (1.0.4)\n",
      "Requirement already satisfied: packaging in /usr/local/lib/python3.7/dist-packages (from keras-tuner) (21.3)\n",
      "Requirement already satisfied: prompt-toolkit<2.1.0,>=2.0.0 in /usr/local/lib/python3.7/dist-packages (from ipython->keras-tuner) (2.0.10)\n",
      "Requirement already satisfied: pickleshare in /usr/local/lib/python3.7/dist-packages (from ipython->keras-tuner) (0.7.5)\n",
      "Requirement already satisfied: jedi>=0.10 in /usr/local/lib/python3.7/dist-packages (from ipython->keras-tuner) (0.18.1)\n",
      "Requirement already satisfied: traitlets>=4.2 in /usr/local/lib/python3.7/dist-packages (from ipython->keras-tuner) (5.1.1)\n",
      "Requirement already satisfied: pygments in /usr/local/lib/python3.7/dist-packages (from ipython->keras-tuner) (2.6.1)\n",
      "Requirement already satisfied: setuptools>=18.5 in /usr/local/lib/python3.7/dist-packages (from ipython->keras-tuner) (57.4.0)\n",
      "Requirement already satisfied: pexpect in /usr/local/lib/python3.7/dist-packages (from ipython->keras-tuner) (4.8.0)\n",
      "Requirement already satisfied: decorator in /usr/local/lib/python3.7/dist-packages (from ipython->keras-tuner) (4.4.2)\n",
      "Requirement already satisfied: backcall in /usr/local/lib/python3.7/dist-packages (from ipython->keras-tuner) (0.2.0)\n",
      "Requirement already satisfied: parso<0.9.0,>=0.8.0 in /usr/local/lib/python3.7/dist-packages (from jedi>=0.10->ipython->keras-tuner) (0.8.3)\n",
      "Requirement already satisfied: wcwidth in /usr/local/lib/python3.7/dist-packages (from prompt-toolkit<2.1.0,>=2.0.0->ipython->keras-tuner) (0.2.5)\n",
      "Requirement already satisfied: six>=1.9.0 in /usr/local/lib/python3.7/dist-packages (from prompt-toolkit<2.1.0,>=2.0.0->ipython->keras-tuner) (1.15.0)\n",
      "Requirement already satisfied: pyparsing!=3.0.5,>=2.0.2 in /usr/local/lib/python3.7/dist-packages (from packaging->keras-tuner) (3.0.9)\n",
      "Requirement already satisfied: ptyprocess>=0.5 in /usr/local/lib/python3.7/dist-packages (from pexpect->ipython->keras-tuner) (0.7.0)\n",
      "Requirement already satisfied: urllib3!=1.25.0,!=1.25.1,<1.26,>=1.21.1 in /usr/local/lib/python3.7/dist-packages (from requests->keras-tuner) (1.24.3)\n",
      "Requirement already satisfied: certifi>=2017.4.17 in /usr/local/lib/python3.7/dist-packages (from requests->keras-tuner) (2022.9.24)\n",
      "Requirement already satisfied: idna<3,>=2.5 in /usr/local/lib/python3.7/dist-packages (from requests->keras-tuner) (2.10)\n",
      "Requirement already satisfied: chardet<4,>=3.0.2 in /usr/local/lib/python3.7/dist-packages (from requests->keras-tuner) (3.0.4)\n",
      "Requirement already satisfied: protobuf<3.20,>=3.9.2 in /usr/local/lib/python3.7/dist-packages (from tensorboard->keras-tuner) (3.19.6)\n",
      "Requirement already satisfied: tensorboard-data-server<0.7.0,>=0.6.0 in /usr/local/lib/python3.7/dist-packages (from tensorboard->keras-tuner) (0.6.1)\n",
      "Requirement already satisfied: markdown>=2.6.8 in /usr/local/lib/python3.7/dist-packages (from tensorboard->keras-tuner) (3.4.1)\n",
      "Requirement already satisfied: google-auth-oauthlib<0.5,>=0.4.1 in /usr/local/lib/python3.7/dist-packages (from tensorboard->keras-tuner) (0.4.6)\n",
      "Requirement already satisfied: grpcio>=1.24.3 in /usr/local/lib/python3.7/dist-packages (from tensorboard->keras-tuner) (1.50.0)\n",
      "Requirement already satisfied: google-auth<3,>=1.6.3 in /usr/local/lib/python3.7/dist-packages (from tensorboard->keras-tuner) (2.14.1)\n",
      "Requirement already satisfied: tensorboard-plugin-wit>=1.6.0 in /usr/local/lib/python3.7/dist-packages (from tensorboard->keras-tuner) (1.8.1)\n",
      "Requirement already satisfied: werkzeug>=1.0.1 in /usr/local/lib/python3.7/dist-packages (from tensorboard->keras-tuner) (1.0.1)\n",
      "Requirement already satisfied: wheel>=0.26 in /usr/local/lib/python3.7/dist-packages (from tensorboard->keras-tuner) (0.38.3)\n",
      "Requirement already satisfied: absl-py>=0.4 in /usr/local/lib/python3.7/dist-packages (from tensorboard->keras-tuner) (1.3.0)\n",
      "Requirement already satisfied: rsa<5,>=3.1.4 in /usr/local/lib/python3.7/dist-packages (from google-auth<3,>=1.6.3->tensorboard->keras-tuner) (4.9)\n",
      "Requirement already satisfied: cachetools<6.0,>=2.0.0 in /usr/local/lib/python3.7/dist-packages (from google-auth<3,>=1.6.3->tensorboard->keras-tuner) (5.2.0)\n",
      "Requirement already satisfied: pyasn1-modules>=0.2.1 in /usr/local/lib/python3.7/dist-packages (from google-auth<3,>=1.6.3->tensorboard->keras-tuner) (0.2.8)\n",
      "Requirement already satisfied: requests-oauthlib>=0.7.0 in /usr/local/lib/python3.7/dist-packages (from google-auth-oauthlib<0.5,>=0.4.1->tensorboard->keras-tuner) (1.3.1)\n",
      "Requirement already satisfied: importlib-metadata>=4.4 in /usr/local/lib/python3.7/dist-packages (from markdown>=2.6.8->tensorboard->keras-tuner) (4.13.0)\n",
      "Requirement already satisfied: zipp>=0.5 in /usr/local/lib/python3.7/dist-packages (from importlib-metadata>=4.4->markdown>=2.6.8->tensorboard->keras-tuner) (3.10.0)\n",
      "Requirement already satisfied: typing-extensions>=3.6.4 in /usr/local/lib/python3.7/dist-packages (from importlib-metadata>=4.4->markdown>=2.6.8->tensorboard->keras-tuner) (4.1.1)\n",
      "Requirement already satisfied: pyasn1<0.5.0,>=0.4.6 in /usr/local/lib/python3.7/dist-packages (from pyasn1-modules>=0.2.1->google-auth<3,>=1.6.3->tensorboard->keras-tuner) (0.4.8)\n",
      "Requirement already satisfied: oauthlib>=3.0.0 in /usr/local/lib/python3.7/dist-packages (from requests-oauthlib>=0.7.0->google-auth-oauthlib<0.5,>=0.4.1->tensorboard->keras-tuner) (3.2.2)\n"
     ]
    }
   ],
   "source": [
    "# install packages\n",
    "! pip install keras-tuner --upgrade\n",
    "! pip install ta\n",
    "! pip install seglearn"
   ]
  },
  {
   "cell_type": "markdown",
   "metadata": {
    "id": "ezCSMw1nD2VT"
   },
   "source": [
    "# Load and transform data"
   ]
  },
  {
   "cell_type": "code",
   "execution_count": null,
   "metadata": {
    "colab": {
     "base_uri": "https://localhost:8080/"
    },
    "executionInfo": {
     "elapsed": 1839,
     "status": "ok",
     "timestamp": 1668773119321,
     "user": {
      "displayName": "zhang yumeng",
      "userId": "05068513416601413411"
     },
     "user_tz": -60
    },
    "id": "xtJkIGujbVvz",
    "outputId": "035b503a-5ae7-40e5-d386-f7a888a3d2cf"
   },
   "outputs": [
    {
     "name": "stdout",
     "output_type": "stream",
     "text": [
      "Drive already mounted at /content/drive; to attempt to forcibly remount, call drive.mount(\"/content/drive\", force_remount=True).\n"
     ]
    }
   ],
   "source": [
    "\n",
    "# Connecting to the google drive\n",
    "from google.colab import drive\n",
    "drive.mount('/content/drive')\n",
    "from IPython.display import clear_output\n"
   ]
  },
  {
   "cell_type": "code",
   "execution_count": null,
   "metadata": {
    "id": "a1vJxaBKbVtg"
   },
   "outputs": [],
   "source": [
    "\n",
    "import pandas as pd\n",
    "import warnings\n",
    "warnings.filterwarnings(\"ignore\")\n",
    "import matplotlib.pyplot as plt\n",
    "import seaborn as sns\n",
    "import numpy as np\n",
    "\n",
    "from sklearn.model_selection import RandomizedSearchCV\n",
    "\n",
    "#picking models for prediction.\n",
    "from sklearn.svm import SVC"
   ]
  },
  {
   "cell_type": "code",
   "execution_count": null,
   "metadata": {
    "id": "UoN25aTwEAJ3"
   },
   "outputs": [],
   "source": [
    "# file path\n",
    "folder_path = '/content/drive/MyDrive/MADS_23_DL_final_project'\n",
    "daily = pd.read_csv(folder_path + '/data/crypto_data_daily_cleaned_v1.csv')"
   ]
  },
  {
   "cell_type": "code",
   "execution_count": null,
   "metadata": {
    "colab": {
     "base_uri": "https://localhost:8080/",
     "height": 206
    },
    "executionInfo": {
     "elapsed": 26,
     "status": "ok",
     "timestamp": 1668773119324,
     "user": {
      "displayName": "zhang yumeng",
      "userId": "05068513416601413411"
     },
     "user_tz": -60
    },
    "id": "b40djbpZEAHQ",
    "outputId": "b5022e73-2b9a-49a8-d9c0-9f7c8a0c0389"
   },
   "outputs": [
    {
     "data": {
      "text/html": [
       "\n",
       "  <div id=\"df-acece8e1-7727-42c2-9bb7-c0edb4a648f3\">\n",
       "    <div class=\"colab-df-container\">\n",
       "      <div>\n",
       "<style scoped>\n",
       "    .dataframe tbody tr th:only-of-type {\n",
       "        vertical-align: middle;\n",
       "    }\n",
       "\n",
       "    .dataframe tbody tr th {\n",
       "        vertical-align: top;\n",
       "    }\n",
       "\n",
       "    .dataframe thead th {\n",
       "        text-align: right;\n",
       "    }\n",
       "</style>\n",
       "<table border=\"1\" class=\"dataframe\">\n",
       "  <thead>\n",
       "    <tr style=\"text-align: right;\">\n",
       "      <th></th>\n",
       "      <th>Open Time</th>\n",
       "      <th>Open</th>\n",
       "      <th>High</th>\n",
       "      <th>Low</th>\n",
       "      <th>Close</th>\n",
       "      <th>Volume</th>\n",
       "      <th>train_test</th>\n",
       "      <th>Crypto</th>\n",
       "    </tr>\n",
       "  </thead>\n",
       "  <tbody>\n",
       "    <tr>\n",
       "      <th>0</th>\n",
       "      <td>2013-04-01</td>\n",
       "      <td>93.155</td>\n",
       "      <td>105.90</td>\n",
       "      <td>93.155</td>\n",
       "      <td>104.750</td>\n",
       "      <td>11008.524</td>\n",
       "      <td>Train</td>\n",
       "      <td>BTC</td>\n",
       "    </tr>\n",
       "    <tr>\n",
       "      <th>1</th>\n",
       "      <td>2013-04-02</td>\n",
       "      <td>104.720</td>\n",
       "      <td>127.00</td>\n",
       "      <td>99.000</td>\n",
       "      <td>123.016</td>\n",
       "      <td>24187.398</td>\n",
       "      <td>Train</td>\n",
       "      <td>BTC</td>\n",
       "    </tr>\n",
       "    <tr>\n",
       "      <th>2</th>\n",
       "      <td>2013-04-03</td>\n",
       "      <td>123.001</td>\n",
       "      <td>146.88</td>\n",
       "      <td>101.511</td>\n",
       "      <td>125.500</td>\n",
       "      <td>31681.780</td>\n",
       "      <td>Train</td>\n",
       "      <td>BTC</td>\n",
       "    </tr>\n",
       "    <tr>\n",
       "      <th>3</th>\n",
       "      <td>2013-04-04</td>\n",
       "      <td>125.500</td>\n",
       "      <td>143.00</td>\n",
       "      <td>125.500</td>\n",
       "      <td>135.632</td>\n",
       "      <td>15035.206</td>\n",
       "      <td>Train</td>\n",
       "      <td>BTC</td>\n",
       "    </tr>\n",
       "    <tr>\n",
       "      <th>4</th>\n",
       "      <td>2013-04-05</td>\n",
       "      <td>136.000</td>\n",
       "      <td>145.00</td>\n",
       "      <td>135.119</td>\n",
       "      <td>142.990</td>\n",
       "      <td>11697.741</td>\n",
       "      <td>Train</td>\n",
       "      <td>BTC</td>\n",
       "    </tr>\n",
       "  </tbody>\n",
       "</table>\n",
       "</div>\n",
       "      <button class=\"colab-df-convert\" onclick=\"convertToInteractive('df-acece8e1-7727-42c2-9bb7-c0edb4a648f3')\"\n",
       "              title=\"Convert this dataframe to an interactive table.\"\n",
       "              style=\"display:none;\">\n",
       "        \n",
       "  <svg xmlns=\"http://www.w3.org/2000/svg\" height=\"24px\"viewBox=\"0 0 24 24\"\n",
       "       width=\"24px\">\n",
       "    <path d=\"M0 0h24v24H0V0z\" fill=\"none\"/>\n",
       "    <path d=\"M18.56 5.44l.94 2.06.94-2.06 2.06-.94-2.06-.94-.94-2.06-.94 2.06-2.06.94zm-11 1L8.5 8.5l.94-2.06 2.06-.94-2.06-.94L8.5 2.5l-.94 2.06-2.06.94zm10 10l.94 2.06.94-2.06 2.06-.94-2.06-.94-.94-2.06-.94 2.06-2.06.94z\"/><path d=\"M17.41 7.96l-1.37-1.37c-.4-.4-.92-.59-1.43-.59-.52 0-1.04.2-1.43.59L10.3 9.45l-7.72 7.72c-.78.78-.78 2.05 0 2.83L4 21.41c.39.39.9.59 1.41.59.51 0 1.02-.2 1.41-.59l7.78-7.78 2.81-2.81c.8-.78.8-2.07 0-2.86zM5.41 20L4 18.59l7.72-7.72 1.47 1.35L5.41 20z\"/>\n",
       "  </svg>\n",
       "      </button>\n",
       "      \n",
       "  <style>\n",
       "    .colab-df-container {\n",
       "      display:flex;\n",
       "      flex-wrap:wrap;\n",
       "      gap: 12px;\n",
       "    }\n",
       "\n",
       "    .colab-df-convert {\n",
       "      background-color: #E8F0FE;\n",
       "      border: none;\n",
       "      border-radius: 50%;\n",
       "      cursor: pointer;\n",
       "      display: none;\n",
       "      fill: #1967D2;\n",
       "      height: 32px;\n",
       "      padding: 0 0 0 0;\n",
       "      width: 32px;\n",
       "    }\n",
       "\n",
       "    .colab-df-convert:hover {\n",
       "      background-color: #E2EBFA;\n",
       "      box-shadow: 0px 1px 2px rgba(60, 64, 67, 0.3), 0px 1px 3px 1px rgba(60, 64, 67, 0.15);\n",
       "      fill: #174EA6;\n",
       "    }\n",
       "\n",
       "    [theme=dark] .colab-df-convert {\n",
       "      background-color: #3B4455;\n",
       "      fill: #D2E3FC;\n",
       "    }\n",
       "\n",
       "    [theme=dark] .colab-df-convert:hover {\n",
       "      background-color: #434B5C;\n",
       "      box-shadow: 0px 1px 3px 1px rgba(0, 0, 0, 0.15);\n",
       "      filter: drop-shadow(0px 1px 2px rgba(0, 0, 0, 0.3));\n",
       "      fill: #FFFFFF;\n",
       "    }\n",
       "  </style>\n",
       "\n",
       "      <script>\n",
       "        const buttonEl =\n",
       "          document.querySelector('#df-acece8e1-7727-42c2-9bb7-c0edb4a648f3 button.colab-df-convert');\n",
       "        buttonEl.style.display =\n",
       "          google.colab.kernel.accessAllowed ? 'block' : 'none';\n",
       "\n",
       "        async function convertToInteractive(key) {\n",
       "          const element = document.querySelector('#df-acece8e1-7727-42c2-9bb7-c0edb4a648f3');\n",
       "          const dataTable =\n",
       "            await google.colab.kernel.invokeFunction('convertToInteractive',\n",
       "                                                     [key], {});\n",
       "          if (!dataTable) return;\n",
       "\n",
       "          const docLinkHtml = 'Like what you see? Visit the ' +\n",
       "            '<a target=\"_blank\" href=https://colab.research.google.com/notebooks/data_table.ipynb>data table notebook</a>'\n",
       "            + ' to learn more about interactive tables.';\n",
       "          element.innerHTML = '';\n",
       "          dataTable['output_type'] = 'display_data';\n",
       "          await google.colab.output.renderOutput(dataTable, element);\n",
       "          const docLink = document.createElement('div');\n",
       "          docLink.innerHTML = docLinkHtml;\n",
       "          element.appendChild(docLink);\n",
       "        }\n",
       "      </script>\n",
       "    </div>\n",
       "  </div>\n",
       "  "
      ],
      "text/plain": [
       "    Open Time     Open    High      Low    Close     Volume train_test Crypto\n",
       "0  2013-04-01   93.155  105.90   93.155  104.750  11008.524      Train    BTC\n",
       "1  2013-04-02  104.720  127.00   99.000  123.016  24187.398      Train    BTC\n",
       "2  2013-04-03  123.001  146.88  101.511  125.500  31681.780      Train    BTC\n",
       "3  2013-04-04  125.500  143.00  125.500  135.632  15035.206      Train    BTC\n",
       "4  2013-04-05  136.000  145.00  135.119  142.990  11697.741      Train    BTC"
      ]
     },
     "execution_count": 147,
     "metadata": {},
     "output_type": "execute_result"
    }
   ],
   "source": [
    "daily.head()"
   ]
  },
  {
   "cell_type": "code",
   "execution_count": null,
   "metadata": {
    "colab": {
     "base_uri": "https://localhost:8080/",
     "height": 424
    },
    "executionInfo": {
     "elapsed": 24,
     "status": "ok",
     "timestamp": 1668773119324,
     "user": {
      "displayName": "zhang yumeng",
      "userId": "05068513416601413411"
     },
     "user_tz": -60
    },
    "id": "a_bxxdL0fAq3",
    "outputId": "fe04a7c3-3a7b-4440-f58d-8bab2b5f7ae9"
   },
   "outputs": [
    {
     "data": {
      "text/html": [
       "\n",
       "  <div id=\"df-4b296473-58bb-4989-8a0d-db52fab85fdc\">\n",
       "    <div class=\"colab-df-container\">\n",
       "      <div>\n",
       "<style scoped>\n",
       "    .dataframe tbody tr th:only-of-type {\n",
       "        vertical-align: middle;\n",
       "    }\n",
       "\n",
       "    .dataframe tbody tr th {\n",
       "        vertical-align: top;\n",
       "    }\n",
       "\n",
       "    .dataframe thead th {\n",
       "        text-align: right;\n",
       "    }\n",
       "</style>\n",
       "<table border=\"1\" class=\"dataframe\">\n",
       "  <thead>\n",
       "    <tr style=\"text-align: right;\">\n",
       "      <th></th>\n",
       "      <th>Open Time</th>\n",
       "      <th>Open</th>\n",
       "      <th>High</th>\n",
       "      <th>Low</th>\n",
       "      <th>Close</th>\n",
       "      <th>Volume</th>\n",
       "      <th>train_test</th>\n",
       "      <th>Crypto</th>\n",
       "    </tr>\n",
       "  </thead>\n",
       "  <tbody>\n",
       "    <tr>\n",
       "      <th>0</th>\n",
       "      <td>2013-04-01</td>\n",
       "      <td>93.155</td>\n",
       "      <td>105.900</td>\n",
       "      <td>93.155</td>\n",
       "      <td>104.750</td>\n",
       "      <td>11008.524000</td>\n",
       "      <td>Train</td>\n",
       "      <td>BTC</td>\n",
       "    </tr>\n",
       "    <tr>\n",
       "      <th>1</th>\n",
       "      <td>2013-04-02</td>\n",
       "      <td>104.720</td>\n",
       "      <td>127.000</td>\n",
       "      <td>99.000</td>\n",
       "      <td>123.016</td>\n",
       "      <td>24187.398000</td>\n",
       "      <td>Train</td>\n",
       "      <td>BTC</td>\n",
       "    </tr>\n",
       "    <tr>\n",
       "      <th>2</th>\n",
       "      <td>2013-04-03</td>\n",
       "      <td>123.001</td>\n",
       "      <td>146.880</td>\n",
       "      <td>101.511</td>\n",
       "      <td>125.500</td>\n",
       "      <td>31681.780000</td>\n",
       "      <td>Train</td>\n",
       "      <td>BTC</td>\n",
       "    </tr>\n",
       "    <tr>\n",
       "      <th>3</th>\n",
       "      <td>2013-04-04</td>\n",
       "      <td>125.500</td>\n",
       "      <td>143.000</td>\n",
       "      <td>125.500</td>\n",
       "      <td>135.632</td>\n",
       "      <td>15035.206000</td>\n",
       "      <td>Train</td>\n",
       "      <td>BTC</td>\n",
       "    </tr>\n",
       "    <tr>\n",
       "      <th>4</th>\n",
       "      <td>2013-04-05</td>\n",
       "      <td>136.000</td>\n",
       "      <td>145.000</td>\n",
       "      <td>135.119</td>\n",
       "      <td>142.990</td>\n",
       "      <td>11697.741000</td>\n",
       "      <td>Train</td>\n",
       "      <td>BTC</td>\n",
       "    </tr>\n",
       "    <tr>\n",
       "      <th>...</th>\n",
       "      <td>...</td>\n",
       "      <td>...</td>\n",
       "      <td>...</td>\n",
       "      <td>...</td>\n",
       "      <td>...</td>\n",
       "      <td>...</td>\n",
       "      <td>...</td>\n",
       "      <td>...</td>\n",
       "    </tr>\n",
       "    <tr>\n",
       "      <th>20741</th>\n",
       "      <td>2022-09-26</td>\n",
       "      <td>28.350</td>\n",
       "      <td>28.606</td>\n",
       "      <td>27.490</td>\n",
       "      <td>28.460</td>\n",
       "      <td>231982.933089</td>\n",
       "      <td>Test</td>\n",
       "      <td>ETC</td>\n",
       "    </tr>\n",
       "    <tr>\n",
       "      <th>20742</th>\n",
       "      <td>2022-09-27</td>\n",
       "      <td>28.460</td>\n",
       "      <td>30.232</td>\n",
       "      <td>27.607</td>\n",
       "      <td>28.130</td>\n",
       "      <td>371967.089380</td>\n",
       "      <td>Test</td>\n",
       "      <td>ETC</td>\n",
       "    </tr>\n",
       "    <tr>\n",
       "      <th>20743</th>\n",
       "      <td>2022-09-28</td>\n",
       "      <td>28.147</td>\n",
       "      <td>28.280</td>\n",
       "      <td>26.640</td>\n",
       "      <td>27.630</td>\n",
       "      <td>181253.911464</td>\n",
       "      <td>Test</td>\n",
       "      <td>ETC</td>\n",
       "    </tr>\n",
       "    <tr>\n",
       "      <th>20744</th>\n",
       "      <td>2022-09-29</td>\n",
       "      <td>27.649</td>\n",
       "      <td>28.295</td>\n",
       "      <td>27.000</td>\n",
       "      <td>27.790</td>\n",
       "      <td>155764.477192</td>\n",
       "      <td>Test</td>\n",
       "      <td>ETC</td>\n",
       "    </tr>\n",
       "    <tr>\n",
       "      <th>20745</th>\n",
       "      <td>2022-09-30</td>\n",
       "      <td>27.830</td>\n",
       "      <td>28.362</td>\n",
       "      <td>27.290</td>\n",
       "      <td>27.730</td>\n",
       "      <td>150287.772536</td>\n",
       "      <td>Test</td>\n",
       "      <td>ETC</td>\n",
       "    </tr>\n",
       "  </tbody>\n",
       "</table>\n",
       "<p>20746 rows × 8 columns</p>\n",
       "</div>\n",
       "      <button class=\"colab-df-convert\" onclick=\"convertToInteractive('df-4b296473-58bb-4989-8a0d-db52fab85fdc')\"\n",
       "              title=\"Convert this dataframe to an interactive table.\"\n",
       "              style=\"display:none;\">\n",
       "        \n",
       "  <svg xmlns=\"http://www.w3.org/2000/svg\" height=\"24px\"viewBox=\"0 0 24 24\"\n",
       "       width=\"24px\">\n",
       "    <path d=\"M0 0h24v24H0V0z\" fill=\"none\"/>\n",
       "    <path d=\"M18.56 5.44l.94 2.06.94-2.06 2.06-.94-2.06-.94-.94-2.06-.94 2.06-2.06.94zm-11 1L8.5 8.5l.94-2.06 2.06-.94-2.06-.94L8.5 2.5l-.94 2.06-2.06.94zm10 10l.94 2.06.94-2.06 2.06-.94-2.06-.94-.94-2.06-.94 2.06-2.06.94z\"/><path d=\"M17.41 7.96l-1.37-1.37c-.4-.4-.92-.59-1.43-.59-.52 0-1.04.2-1.43.59L10.3 9.45l-7.72 7.72c-.78.78-.78 2.05 0 2.83L4 21.41c.39.39.9.59 1.41.59.51 0 1.02-.2 1.41-.59l7.78-7.78 2.81-2.81c.8-.78.8-2.07 0-2.86zM5.41 20L4 18.59l7.72-7.72 1.47 1.35L5.41 20z\"/>\n",
       "  </svg>\n",
       "      </button>\n",
       "      \n",
       "  <style>\n",
       "    .colab-df-container {\n",
       "      display:flex;\n",
       "      flex-wrap:wrap;\n",
       "      gap: 12px;\n",
       "    }\n",
       "\n",
       "    .colab-df-convert {\n",
       "      background-color: #E8F0FE;\n",
       "      border: none;\n",
       "      border-radius: 50%;\n",
       "      cursor: pointer;\n",
       "      display: none;\n",
       "      fill: #1967D2;\n",
       "      height: 32px;\n",
       "      padding: 0 0 0 0;\n",
       "      width: 32px;\n",
       "    }\n",
       "\n",
       "    .colab-df-convert:hover {\n",
       "      background-color: #E2EBFA;\n",
       "      box-shadow: 0px 1px 2px rgba(60, 64, 67, 0.3), 0px 1px 3px 1px rgba(60, 64, 67, 0.15);\n",
       "      fill: #174EA6;\n",
       "    }\n",
       "\n",
       "    [theme=dark] .colab-df-convert {\n",
       "      background-color: #3B4455;\n",
       "      fill: #D2E3FC;\n",
       "    }\n",
       "\n",
       "    [theme=dark] .colab-df-convert:hover {\n",
       "      background-color: #434B5C;\n",
       "      box-shadow: 0px 1px 3px 1px rgba(0, 0, 0, 0.15);\n",
       "      filter: drop-shadow(0px 1px 2px rgba(0, 0, 0, 0.3));\n",
       "      fill: #FFFFFF;\n",
       "    }\n",
       "  </style>\n",
       "\n",
       "      <script>\n",
       "        const buttonEl =\n",
       "          document.querySelector('#df-4b296473-58bb-4989-8a0d-db52fab85fdc button.colab-df-convert');\n",
       "        buttonEl.style.display =\n",
       "          google.colab.kernel.accessAllowed ? 'block' : 'none';\n",
       "\n",
       "        async function convertToInteractive(key) {\n",
       "          const element = document.querySelector('#df-4b296473-58bb-4989-8a0d-db52fab85fdc');\n",
       "          const dataTable =\n",
       "            await google.colab.kernel.invokeFunction('convertToInteractive',\n",
       "                                                     [key], {});\n",
       "          if (!dataTable) return;\n",
       "\n",
       "          const docLinkHtml = 'Like what you see? Visit the ' +\n",
       "            '<a target=\"_blank\" href=https://colab.research.google.com/notebooks/data_table.ipynb>data table notebook</a>'\n",
       "            + ' to learn more about interactive tables.';\n",
       "          element.innerHTML = '';\n",
       "          dataTable['output_type'] = 'display_data';\n",
       "          await google.colab.output.renderOutput(dataTable, element);\n",
       "          const docLink = document.createElement('div');\n",
       "          docLink.innerHTML = docLinkHtml;\n",
       "          element.appendChild(docLink);\n",
       "        }\n",
       "      </script>\n",
       "    </div>\n",
       "  </div>\n",
       "  "
      ],
      "text/plain": [
       "        Open Time     Open     High      Low    Close         Volume  \\\n",
       "0      2013-04-01   93.155  105.900   93.155  104.750   11008.524000   \n",
       "1      2013-04-02  104.720  127.000   99.000  123.016   24187.398000   \n",
       "2      2013-04-03  123.001  146.880  101.511  125.500   31681.780000   \n",
       "3      2013-04-04  125.500  143.000  125.500  135.632   15035.206000   \n",
       "4      2013-04-05  136.000  145.000  135.119  142.990   11697.741000   \n",
       "...           ...      ...      ...      ...      ...            ...   \n",
       "20741  2022-09-26   28.350   28.606   27.490   28.460  231982.933089   \n",
       "20742  2022-09-27   28.460   30.232   27.607   28.130  371967.089380   \n",
       "20743  2022-09-28   28.147   28.280   26.640   27.630  181253.911464   \n",
       "20744  2022-09-29   27.649   28.295   27.000   27.790  155764.477192   \n",
       "20745  2022-09-30   27.830   28.362   27.290   27.730  150287.772536   \n",
       "\n",
       "      train_test Crypto  \n",
       "0          Train    BTC  \n",
       "1          Train    BTC  \n",
       "2          Train    BTC  \n",
       "3          Train    BTC  \n",
       "4          Train    BTC  \n",
       "...          ...    ...  \n",
       "20741       Test    ETC  \n",
       "20742       Test    ETC  \n",
       "20743       Test    ETC  \n",
       "20744       Test    ETC  \n",
       "20745       Test    ETC  \n",
       "\n",
       "[20746 rows x 8 columns]"
      ]
     },
     "execution_count": 148,
     "metadata": {},
     "output_type": "execute_result"
    }
   ],
   "source": [
    "daily"
   ]
  },
  {
   "cell_type": "markdown",
   "metadata": {
    "id": "FNHz7njChiR6"
   },
   "source": [
    "## Train / Test Split"
   ]
  },
  {
   "cell_type": "code",
   "execution_count": null,
   "metadata": {
    "colab": {
     "base_uri": "https://localhost:8080/"
    },
    "executionInfo": {
     "elapsed": 24,
     "status": "ok",
     "timestamp": 1668773119325,
     "user": {
      "displayName": "zhang yumeng",
      "userId": "05068513416601413411"
     },
     "user_tz": -60
    },
    "id": "ZkYoqRNeJI6T",
    "outputId": "22768f10-0e91-4ec7-8f15-42831107206d"
   },
   "outputs": [
    {
     "data": {
      "text/plain": [
       "Train    0.82546\n",
       "Test     0.17454\n",
       "Name: train_test, dtype: float64"
      ]
     },
     "execution_count": 149,
     "metadata": {},
     "output_type": "execute_result"
    }
   ],
   "source": [
    "daily['train_test'].value_counts(normalize=True)"
   ]
  },
  {
   "cell_type": "code",
   "execution_count": null,
   "metadata": {
    "id": "xqTNKa5OnQT5"
   },
   "outputs": [],
   "source": [
    "df = daily.copy()"
   ]
  },
  {
   "cell_type": "code",
   "execution_count": null,
   "metadata": {
    "id": "fXGlXHHGoESO"
   },
   "outputs": [],
   "source": [
    "# train test split\n",
    "train_df = df[df['train_test']=='Train']\n",
    "test_df = df[df['train_test']=='Test']"
   ]
  },
  {
   "cell_type": "code",
   "execution_count": null,
   "metadata": {
    "colab": {
     "base_uri": "https://localhost:8080/",
     "height": 206
    },
    "executionInfo": {
     "elapsed": 20,
     "status": "ok",
     "timestamp": 1668773119325,
     "user": {
      "displayName": "zhang yumeng",
      "userId": "05068513416601413411"
     },
     "user_tz": -60
    },
    "id": "KSNLRj7UJEw_",
    "outputId": "b06c9ac1-c7b2-4087-f4c1-ade7754a1e92"
   },
   "outputs": [
    {
     "data": {
      "text/html": [
       "\n",
       "  <div id=\"df-c112f56d-49b1-470d-9aba-d65bdffc4251\">\n",
       "    <div class=\"colab-df-container\">\n",
       "      <div>\n",
       "<style scoped>\n",
       "    .dataframe tbody tr th:only-of-type {\n",
       "        vertical-align: middle;\n",
       "    }\n",
       "\n",
       "    .dataframe tbody tr th {\n",
       "        vertical-align: top;\n",
       "    }\n",
       "\n",
       "    .dataframe thead th {\n",
       "        text-align: right;\n",
       "    }\n",
       "</style>\n",
       "<table border=\"1\" class=\"dataframe\">\n",
       "  <thead>\n",
       "    <tr style=\"text-align: right;\">\n",
       "      <th></th>\n",
       "      <th>Open Time</th>\n",
       "      <th>Open</th>\n",
       "      <th>High</th>\n",
       "      <th>Low</th>\n",
       "      <th>Close</th>\n",
       "      <th>Volume</th>\n",
       "      <th>train_test</th>\n",
       "      <th>Crypto</th>\n",
       "    </tr>\n",
       "  </thead>\n",
       "  <tbody>\n",
       "    <tr>\n",
       "      <th>0</th>\n",
       "      <td>2013-04-01</td>\n",
       "      <td>93.155</td>\n",
       "      <td>105.90</td>\n",
       "      <td>93.155</td>\n",
       "      <td>104.750</td>\n",
       "      <td>11008.524</td>\n",
       "      <td>Train</td>\n",
       "      <td>BTC</td>\n",
       "    </tr>\n",
       "    <tr>\n",
       "      <th>1</th>\n",
       "      <td>2013-04-02</td>\n",
       "      <td>104.720</td>\n",
       "      <td>127.00</td>\n",
       "      <td>99.000</td>\n",
       "      <td>123.016</td>\n",
       "      <td>24187.398</td>\n",
       "      <td>Train</td>\n",
       "      <td>BTC</td>\n",
       "    </tr>\n",
       "    <tr>\n",
       "      <th>2</th>\n",
       "      <td>2013-04-03</td>\n",
       "      <td>123.001</td>\n",
       "      <td>146.88</td>\n",
       "      <td>101.511</td>\n",
       "      <td>125.500</td>\n",
       "      <td>31681.780</td>\n",
       "      <td>Train</td>\n",
       "      <td>BTC</td>\n",
       "    </tr>\n",
       "    <tr>\n",
       "      <th>3</th>\n",
       "      <td>2013-04-04</td>\n",
       "      <td>125.500</td>\n",
       "      <td>143.00</td>\n",
       "      <td>125.500</td>\n",
       "      <td>135.632</td>\n",
       "      <td>15035.206</td>\n",
       "      <td>Train</td>\n",
       "      <td>BTC</td>\n",
       "    </tr>\n",
       "    <tr>\n",
       "      <th>4</th>\n",
       "      <td>2013-04-05</td>\n",
       "      <td>136.000</td>\n",
       "      <td>145.00</td>\n",
       "      <td>135.119</td>\n",
       "      <td>142.990</td>\n",
       "      <td>11697.741</td>\n",
       "      <td>Train</td>\n",
       "      <td>BTC</td>\n",
       "    </tr>\n",
       "  </tbody>\n",
       "</table>\n",
       "</div>\n",
       "      <button class=\"colab-df-convert\" onclick=\"convertToInteractive('df-c112f56d-49b1-470d-9aba-d65bdffc4251')\"\n",
       "              title=\"Convert this dataframe to an interactive table.\"\n",
       "              style=\"display:none;\">\n",
       "        \n",
       "  <svg xmlns=\"http://www.w3.org/2000/svg\" height=\"24px\"viewBox=\"0 0 24 24\"\n",
       "       width=\"24px\">\n",
       "    <path d=\"M0 0h24v24H0V0z\" fill=\"none\"/>\n",
       "    <path d=\"M18.56 5.44l.94 2.06.94-2.06 2.06-.94-2.06-.94-.94-2.06-.94 2.06-2.06.94zm-11 1L8.5 8.5l.94-2.06 2.06-.94-2.06-.94L8.5 2.5l-.94 2.06-2.06.94zm10 10l.94 2.06.94-2.06 2.06-.94-2.06-.94-.94-2.06-.94 2.06-2.06.94z\"/><path d=\"M17.41 7.96l-1.37-1.37c-.4-.4-.92-.59-1.43-.59-.52 0-1.04.2-1.43.59L10.3 9.45l-7.72 7.72c-.78.78-.78 2.05 0 2.83L4 21.41c.39.39.9.59 1.41.59.51 0 1.02-.2 1.41-.59l7.78-7.78 2.81-2.81c.8-.78.8-2.07 0-2.86zM5.41 20L4 18.59l7.72-7.72 1.47 1.35L5.41 20z\"/>\n",
       "  </svg>\n",
       "      </button>\n",
       "      \n",
       "  <style>\n",
       "    .colab-df-container {\n",
       "      display:flex;\n",
       "      flex-wrap:wrap;\n",
       "      gap: 12px;\n",
       "    }\n",
       "\n",
       "    .colab-df-convert {\n",
       "      background-color: #E8F0FE;\n",
       "      border: none;\n",
       "      border-radius: 50%;\n",
       "      cursor: pointer;\n",
       "      display: none;\n",
       "      fill: #1967D2;\n",
       "      height: 32px;\n",
       "      padding: 0 0 0 0;\n",
       "      width: 32px;\n",
       "    }\n",
       "\n",
       "    .colab-df-convert:hover {\n",
       "      background-color: #E2EBFA;\n",
       "      box-shadow: 0px 1px 2px rgba(60, 64, 67, 0.3), 0px 1px 3px 1px rgba(60, 64, 67, 0.15);\n",
       "      fill: #174EA6;\n",
       "    }\n",
       "\n",
       "    [theme=dark] .colab-df-convert {\n",
       "      background-color: #3B4455;\n",
       "      fill: #D2E3FC;\n",
       "    }\n",
       "\n",
       "    [theme=dark] .colab-df-convert:hover {\n",
       "      background-color: #434B5C;\n",
       "      box-shadow: 0px 1px 3px 1px rgba(0, 0, 0, 0.15);\n",
       "      filter: drop-shadow(0px 1px 2px rgba(0, 0, 0, 0.3));\n",
       "      fill: #FFFFFF;\n",
       "    }\n",
       "  </style>\n",
       "\n",
       "      <script>\n",
       "        const buttonEl =\n",
       "          document.querySelector('#df-c112f56d-49b1-470d-9aba-d65bdffc4251 button.colab-df-convert');\n",
       "        buttonEl.style.display =\n",
       "          google.colab.kernel.accessAllowed ? 'block' : 'none';\n",
       "\n",
       "        async function convertToInteractive(key) {\n",
       "          const element = document.querySelector('#df-c112f56d-49b1-470d-9aba-d65bdffc4251');\n",
       "          const dataTable =\n",
       "            await google.colab.kernel.invokeFunction('convertToInteractive',\n",
       "                                                     [key], {});\n",
       "          if (!dataTable) return;\n",
       "\n",
       "          const docLinkHtml = 'Like what you see? Visit the ' +\n",
       "            '<a target=\"_blank\" href=https://colab.research.google.com/notebooks/data_table.ipynb>data table notebook</a>'\n",
       "            + ' to learn more about interactive tables.';\n",
       "          element.innerHTML = '';\n",
       "          dataTable['output_type'] = 'display_data';\n",
       "          await google.colab.output.renderOutput(dataTable, element);\n",
       "          const docLink = document.createElement('div');\n",
       "          docLink.innerHTML = docLinkHtml;\n",
       "          element.appendChild(docLink);\n",
       "        }\n",
       "      </script>\n",
       "    </div>\n",
       "  </div>\n",
       "  "
      ],
      "text/plain": [
       "    Open Time     Open    High      Low    Close     Volume train_test Crypto\n",
       "0  2013-04-01   93.155  105.90   93.155  104.750  11008.524      Train    BTC\n",
       "1  2013-04-02  104.720  127.00   99.000  123.016  24187.398      Train    BTC\n",
       "2  2013-04-03  123.001  146.88  101.511  125.500  31681.780      Train    BTC\n",
       "3  2013-04-04  125.500  143.00  125.500  135.632  15035.206      Train    BTC\n",
       "4  2013-04-05  136.000  145.00  135.119  142.990  11697.741      Train    BTC"
      ]
     },
     "execution_count": 152,
     "metadata": {},
     "output_type": "execute_result"
    }
   ],
   "source": [
    "train_df.head()"
   ]
  },
  {
   "cell_type": "code",
   "execution_count": null,
   "metadata": {
    "colab": {
     "base_uri": "https://localhost:8080/"
    },
    "executionInfo": {
     "elapsed": 20,
     "status": "ok",
     "timestamp": 1668773119326,
     "user": {
      "displayName": "zhang yumeng",
      "userId": "05068513416601413411"
     },
     "user_tz": -60
    },
    "id": "O_70Ux-ATy7w",
    "outputId": "5f038a1c-0d2d-4e03-c825-9e7318a71ef3"
   },
   "outputs": [
    {
     "data": {
      "text/plain": [
       "Index(['Open Time', 'Open', 'High', 'Low', 'Close', 'Volume', 'train_test',\n",
       "       'Crypto'],\n",
       "      dtype='object')"
      ]
     },
     "execution_count": 153,
     "metadata": {},
     "output_type": "execute_result"
    }
   ],
   "source": [
    "train_df.columns"
   ]
  },
  {
   "cell_type": "markdown",
   "metadata": {
    "id": "OPEpCquafmSW"
   },
   "source": [
    "## Calculate percentage change for Train and Test"
   ]
  },
  {
   "cell_type": "code",
   "execution_count": null,
   "metadata": {
    "id": "JAy9hNxuEhLB"
   },
   "outputs": [],
   "source": [
    "def calculate_pct_change(df):\n",
    "  coins = df.Crypto.unique()\n",
    "  df_pct_change = pd.DataFrame()\n",
    "  for coin in coins:\n",
    "    x = df[df['Crypto']==coin]\n",
    "    x['pct_change_1day'] = x['Close'].pct_change(1)\n",
    "    df_pct_change = pd.concat([df_pct_change,x])\n",
    "  return df_pct_change"
   ]
  },
  {
   "cell_type": "code",
   "execution_count": null,
   "metadata": {
    "id": "JXhFnfTvgklS"
   },
   "outputs": [],
   "source": [
    "train_df = calculate_pct_change(train_df)\n",
    "test_df = calculate_pct_change(test_df)"
   ]
  },
  {
   "cell_type": "code",
   "execution_count": null,
   "metadata": {
    "colab": {
     "base_uri": "https://localhost:8080/",
     "height": 206
    },
    "executionInfo": {
     "elapsed": 8,
     "status": "ok",
     "timestamp": 1668773119756,
     "user": {
      "displayName": "zhang yumeng",
      "userId": "05068513416601413411"
     },
     "user_tz": -60
    },
    "id": "Ggq5pbWlE0L-",
    "outputId": "7254a74d-d6aa-42a8-8c96-afe759d3f995"
   },
   "outputs": [
    {
     "data": {
      "text/html": [
       "\n",
       "  <div id=\"df-5e54dfd9-bf9f-46e5-be17-960eafe0388c\">\n",
       "    <div class=\"colab-df-container\">\n",
       "      <div>\n",
       "<style scoped>\n",
       "    .dataframe tbody tr th:only-of-type {\n",
       "        vertical-align: middle;\n",
       "    }\n",
       "\n",
       "    .dataframe tbody tr th {\n",
       "        vertical-align: top;\n",
       "    }\n",
       "\n",
       "    .dataframe thead th {\n",
       "        text-align: right;\n",
       "    }\n",
       "</style>\n",
       "<table border=\"1\" class=\"dataframe\">\n",
       "  <thead>\n",
       "    <tr style=\"text-align: right;\">\n",
       "      <th></th>\n",
       "      <th>Open Time</th>\n",
       "      <th>Open</th>\n",
       "      <th>High</th>\n",
       "      <th>Low</th>\n",
       "      <th>Close</th>\n",
       "      <th>Volume</th>\n",
       "      <th>train_test</th>\n",
       "      <th>Crypto</th>\n",
       "      <th>pct_change_1day</th>\n",
       "    </tr>\n",
       "  </thead>\n",
       "  <tbody>\n",
       "    <tr>\n",
       "      <th>3098</th>\n",
       "      <td>2021-10-01</td>\n",
       "      <td>43828.89</td>\n",
       "      <td>48500.00</td>\n",
       "      <td>43287.44</td>\n",
       "      <td>48165.76</td>\n",
       "      <td>38375.517</td>\n",
       "      <td>Test</td>\n",
       "      <td>BTC</td>\n",
       "      <td>NaN</td>\n",
       "    </tr>\n",
       "    <tr>\n",
       "      <th>3099</th>\n",
       "      <td>2021-10-02</td>\n",
       "      <td>48185.61</td>\n",
       "      <td>48361.83</td>\n",
       "      <td>47438.00</td>\n",
       "      <td>47657.69</td>\n",
       "      <td>12310.011</td>\n",
       "      <td>Test</td>\n",
       "      <td>BTC</td>\n",
       "      <td>-0.010548</td>\n",
       "    </tr>\n",
       "    <tr>\n",
       "      <th>3100</th>\n",
       "      <td>2021-10-03</td>\n",
       "      <td>47649.00</td>\n",
       "      <td>49300.00</td>\n",
       "      <td>47119.87</td>\n",
       "      <td>48233.99</td>\n",
       "      <td>14411.104</td>\n",
       "      <td>Test</td>\n",
       "      <td>BTC</td>\n",
       "      <td>0.012092</td>\n",
       "    </tr>\n",
       "    <tr>\n",
       "      <th>3101</th>\n",
       "      <td>2021-10-04</td>\n",
       "      <td>48233.99</td>\n",
       "      <td>49530.53</td>\n",
       "      <td>46895.80</td>\n",
       "      <td>49245.54</td>\n",
       "      <td>25695.213</td>\n",
       "      <td>Test</td>\n",
       "      <td>BTC</td>\n",
       "      <td>0.020972</td>\n",
       "    </tr>\n",
       "    <tr>\n",
       "      <th>3102</th>\n",
       "      <td>2021-10-05</td>\n",
       "      <td>49244.13</td>\n",
       "      <td>51922.00</td>\n",
       "      <td>49057.18</td>\n",
       "      <td>51493.99</td>\n",
       "      <td>30764.491</td>\n",
       "      <td>Test</td>\n",
       "      <td>BTC</td>\n",
       "      <td>0.045658</td>\n",
       "    </tr>\n",
       "  </tbody>\n",
       "</table>\n",
       "</div>\n",
       "      <button class=\"colab-df-convert\" onclick=\"convertToInteractive('df-5e54dfd9-bf9f-46e5-be17-960eafe0388c')\"\n",
       "              title=\"Convert this dataframe to an interactive table.\"\n",
       "              style=\"display:none;\">\n",
       "        \n",
       "  <svg xmlns=\"http://www.w3.org/2000/svg\" height=\"24px\"viewBox=\"0 0 24 24\"\n",
       "       width=\"24px\">\n",
       "    <path d=\"M0 0h24v24H0V0z\" fill=\"none\"/>\n",
       "    <path d=\"M18.56 5.44l.94 2.06.94-2.06 2.06-.94-2.06-.94-.94-2.06-.94 2.06-2.06.94zm-11 1L8.5 8.5l.94-2.06 2.06-.94-2.06-.94L8.5 2.5l-.94 2.06-2.06.94zm10 10l.94 2.06.94-2.06 2.06-.94-2.06-.94-.94-2.06-.94 2.06-2.06.94z\"/><path d=\"M17.41 7.96l-1.37-1.37c-.4-.4-.92-.59-1.43-.59-.52 0-1.04.2-1.43.59L10.3 9.45l-7.72 7.72c-.78.78-.78 2.05 0 2.83L4 21.41c.39.39.9.59 1.41.59.51 0 1.02-.2 1.41-.59l7.78-7.78 2.81-2.81c.8-.78.8-2.07 0-2.86zM5.41 20L4 18.59l7.72-7.72 1.47 1.35L5.41 20z\"/>\n",
       "  </svg>\n",
       "      </button>\n",
       "      \n",
       "  <style>\n",
       "    .colab-df-container {\n",
       "      display:flex;\n",
       "      flex-wrap:wrap;\n",
       "      gap: 12px;\n",
       "    }\n",
       "\n",
       "    .colab-df-convert {\n",
       "      background-color: #E8F0FE;\n",
       "      border: none;\n",
       "      border-radius: 50%;\n",
       "      cursor: pointer;\n",
       "      display: none;\n",
       "      fill: #1967D2;\n",
       "      height: 32px;\n",
       "      padding: 0 0 0 0;\n",
       "      width: 32px;\n",
       "    }\n",
       "\n",
       "    .colab-df-convert:hover {\n",
       "      background-color: #E2EBFA;\n",
       "      box-shadow: 0px 1px 2px rgba(60, 64, 67, 0.3), 0px 1px 3px 1px rgba(60, 64, 67, 0.15);\n",
       "      fill: #174EA6;\n",
       "    }\n",
       "\n",
       "    [theme=dark] .colab-df-convert {\n",
       "      background-color: #3B4455;\n",
       "      fill: #D2E3FC;\n",
       "    }\n",
       "\n",
       "    [theme=dark] .colab-df-convert:hover {\n",
       "      background-color: #434B5C;\n",
       "      box-shadow: 0px 1px 3px 1px rgba(0, 0, 0, 0.15);\n",
       "      filter: drop-shadow(0px 1px 2px rgba(0, 0, 0, 0.3));\n",
       "      fill: #FFFFFF;\n",
       "    }\n",
       "  </style>\n",
       "\n",
       "      <script>\n",
       "        const buttonEl =\n",
       "          document.querySelector('#df-5e54dfd9-bf9f-46e5-be17-960eafe0388c button.colab-df-convert');\n",
       "        buttonEl.style.display =\n",
       "          google.colab.kernel.accessAllowed ? 'block' : 'none';\n",
       "\n",
       "        async function convertToInteractive(key) {\n",
       "          const element = document.querySelector('#df-5e54dfd9-bf9f-46e5-be17-960eafe0388c');\n",
       "          const dataTable =\n",
       "            await google.colab.kernel.invokeFunction('convertToInteractive',\n",
       "                                                     [key], {});\n",
       "          if (!dataTable) return;\n",
       "\n",
       "          const docLinkHtml = 'Like what you see? Visit the ' +\n",
       "            '<a target=\"_blank\" href=https://colab.research.google.com/notebooks/data_table.ipynb>data table notebook</a>'\n",
       "            + ' to learn more about interactive tables.';\n",
       "          element.innerHTML = '';\n",
       "          dataTable['output_type'] = 'display_data';\n",
       "          await google.colab.output.renderOutput(dataTable, element);\n",
       "          const docLink = document.createElement('div');\n",
       "          docLink.innerHTML = docLinkHtml;\n",
       "          element.appendChild(docLink);\n",
       "        }\n",
       "      </script>\n",
       "    </div>\n",
       "  </div>\n",
       "  "
      ],
      "text/plain": [
       "       Open Time      Open      High       Low     Close     Volume  \\\n",
       "3098  2021-10-01  43828.89  48500.00  43287.44  48165.76  38375.517   \n",
       "3099  2021-10-02  48185.61  48361.83  47438.00  47657.69  12310.011   \n",
       "3100  2021-10-03  47649.00  49300.00  47119.87  48233.99  14411.104   \n",
       "3101  2021-10-04  48233.99  49530.53  46895.80  49245.54  25695.213   \n",
       "3102  2021-10-05  49244.13  51922.00  49057.18  51493.99  30764.491   \n",
       "\n",
       "     train_test Crypto  pct_change_1day  \n",
       "3098       Test    BTC              NaN  \n",
       "3099       Test    BTC        -0.010548  \n",
       "3100       Test    BTC         0.012092  \n",
       "3101       Test    BTC         0.020972  \n",
       "3102       Test    BTC         0.045658  "
      ]
     },
     "execution_count": 160,
     "metadata": {},
     "output_type": "execute_result"
    }
   ],
   "source": [
    "test_df.head()"
   ]
  },
  {
   "cell_type": "markdown",
   "metadata": {
    "id": "OwZVxNuvgyAE"
   },
   "source": [
    "## Generate lag features"
   ]
  },
  {
   "cell_type": "code",
   "execution_count": null,
   "metadata": {
    "id": "XXaA4XlKD__e"
   },
   "outputs": [],
   "source": [
    "# function to calculate the market capitalization of coins at each time point\n",
    "def create_market_volumn_features(df):\n",
    "  \n",
    "  # calculate value of each cryto at certain time points \n",
    "  df['Total_Value'] = df['Close']*df['Volume']\n",
    "  # the sum of values at each time point\n",
    "  sum_at_timepoints = df.groupby('Open Time').sum()['Total_Value']\n",
    "  merged = df.merge(sum_at_timepoints, how='left',\n",
    "                              on='Open Time', suffixes=('','_market'))\n",
    "  merged['Value_Weight'] = merged['Total_Value']/merged['Total_Value_market']\n",
    "    \n",
    "  return merged"
   ]
  },
  {
   "cell_type": "code",
   "execution_count": null,
   "metadata": {
    "id": "zRYu_lNKlzaj"
   },
   "outputs": [],
   "source": [
    "# function to create 1 day lag\n",
    "def create_shift_features(df, col = 'pct_change_1day'):\n",
    "   df['1_d_lag'] = df[col].shift(periods=1)\n",
    "  #  df['1_w_lag'] = df[col].shift(periods=7)\n",
    "   return df"
   ]
  },
  {
   "cell_type": "code",
   "execution_count": null,
   "metadata": {
    "id": "tGLG0ngrFDx8"
   },
   "outputs": [],
   "source": [
    "# stack all functions together and iterate through all coins\n",
    "from ta import add_all_ta_features\n",
    "def create_analysis_colums(df):\n",
    "\n",
    "  master_df = pd.DataFrame()\n",
    "  crypto_coins = df['Crypto'].unique()\n",
    "\n",
    "  for coin in crypto_coins:\n",
    "    \n",
    "    temp_df = df[df['Crypto']==coin]\n",
    "    temp_df['pct_change_1day'] = temp_df['Close'].pct_change()\n",
    "    temp_df = create_shift_features(temp_df.copy(),col = 'pct_change_1day')\n",
    "    temp_df = add_all_ta_features(temp_df.copy(), open=\"Open\", high=\"High\", low=\"Low\", close=\"Close\", volume=\"Volume\", fillna=True)\n",
    "    if master_df.empty :\n",
    "      master_df = temp_df\n",
    "    else:\n",
    "      master_df = pd.concat([master_df, temp_df])\n",
    "  return master_df"
   ]
  },
  {
   "cell_type": "code",
   "execution_count": null,
   "metadata": {
    "id": "rHqPRaqAGk-y"
   },
   "outputs": [],
   "source": [
    "# apply all functions\n",
    "train_df =create_analysis_colums(train_df)\n",
    "test_df =create_analysis_colums(test_df)"
   ]
  },
  {
   "cell_type": "code",
   "execution_count": null,
   "metadata": {
    "id": "2So5dVitKoZ0"
   },
   "outputs": [],
   "source": [
    "# calculate the market capitalization\n",
    "train_df =create_market_volumn_features(train_df.copy())\n",
    "test_df =create_market_volumn_features(test_df.copy())"
   ]
  },
  {
   "cell_type": "code",
   "execution_count": null,
   "metadata": {
    "id": "6xZUyQ7W5ofz"
   },
   "outputs": [],
   "source": [
    "# features selected from previous model importance analysis\n",
    "feat_to_keep = ['Open Time', 'Open', 'High', 'Low', 'Close', 'Volume', 'train_test',\n",
    "       'Crypto', 'pct_change_1day','volatility_kcw','trend_cci','volume_adi','momentum_ppo_hist','momentum_stoch','volatility_kcp','volume_em',\n",
    "             'volatility_dcw','volume_vpt','volatility_bbw','Total_Value', 'Total_Value_market', 'Value_Weight']\n",
    "\n",
    "lag_cols = [col for col in train_df.columns if 'lag' in col]\n",
    "feat_to_keep.extend(lag_cols)"
   ]
  },
  {
   "cell_type": "code",
   "execution_count": null,
   "metadata": {
    "id": "hf-tObXS5oc-"
   },
   "outputs": [],
   "source": [
    "# only keep above features\n",
    "train_df = train_df[feat_to_keep]\n",
    "test_df = test_df[feat_to_keep]"
   ]
  },
  {
   "cell_type": "code",
   "execution_count": null,
   "metadata": {
    "id": "myb82wWv_Nwb"
   },
   "outputs": [],
   "source": [
    "# function to shift all technical features by 1 because it causes leakage\n",
    "def shift_vol(df):\n",
    "  impo_feat = ['volatility_kcw','trend_cci','volume_adi','momentum_ppo_hist','momentum_stoch','volatility_kcp','volume_em',\n",
    "              'volatility_dcw','volume_vpt','volatility_bbw']\n",
    "  master_df = pd.DataFrame()\n",
    "  crypto_coins = df['Crypto'].unique()\n",
    "\n",
    "\n",
    "  for coin in crypto_coins:\n",
    "    temp_df = df[df['Crypto']==coin]\n",
    "    for feat in impo_feat:    \n",
    "\n",
    "      temp_df[feat] = temp_df[feat].shift(1)\n",
    "    if master_df.empty :\n",
    "      master_df = temp_df\n",
    "    else:\n",
    "      master_df = pd.concat([master_df, temp_df])\n",
    "  return master_df"
   ]
  },
  {
   "cell_type": "code",
   "execution_count": null,
   "metadata": {
    "id": "d8iTgm8QrsHn"
   },
   "outputs": [],
   "source": [
    "# apply shift function\n",
    "train_df = shift_vol(train_df.copy())\n",
    "test_df = shift_vol(test_df.copy())"
   ]
  },
  {
   "cell_type": "code",
   "execution_count": null,
   "metadata": {
    "id": "VWOZMDVFrydc"
   },
   "outputs": [],
   "source": []
  },
  {
   "cell_type": "markdown",
   "metadata": {
    "id": "5RBlVhWmo4Uc"
   },
   "source": [
    "## Extract year, month, day, hour and weekday from time stamp"
   ]
  },
  {
   "cell_type": "markdown",
   "metadata": {
    "id": "3ValNvBfyk7W"
   },
   "source": [
    "### Encoding of ordinals"
   ]
  },
  {
   "cell_type": "code",
   "execution_count": null,
   "metadata": {
    "id": "bqW038FJxk1X"
   },
   "outputs": [],
   "source": [
    "\n",
    "def encode_cyclicals(df_x):\n",
    "\n",
    "    df_x['month_sin'] = np.sin(2*np.pi*df_x.month/12)\n",
    "    df_x['month_cos'] = np.cos(2*np.pi*df_x.month/12)\n",
    "    df_x.drop('month', axis=1, inplace=True)\n",
    "    \n",
    "    df_x['day_sin'] = np.sin(2*np.pi*df_x.day/31)\n",
    "    df_x['day_cos'] = np.cos(2*np.pi*df_x.day/31)\n",
    "    df_x.drop('day', axis=1, inplace=True)\n",
    "\n",
    "    df_x['dayofweek_sin'] = np.sin(2*np.pi*df_x.weekday/7)\n",
    "    df_x['dayofweek_cos'] = np.cos(2*np.pi*df_x.weekday/7)\n",
    "    df_x.drop('weekday', axis=1, inplace=True)\n",
    "    \n",
    "    df_x['hour_sin'] = np.sin(2*np.pi*df_x.hour/24)\n",
    "    df_x['hour_cos'] = np.cos(2*np.pi*df_x.hour/24)\n",
    "    df_x.drop('hour', axis=1, inplace=True)\n",
    "\n",
    "    df_x['hour_sin'] = np.sin(2*np.pi*df_x.minute/60)\n",
    "    df_x['hour_cos'] = np.cos(2*np.pi*df_x.minute/60)\n",
    "    df_x.drop('minute', axis=1, inplace=True)\n",
    "    \n",
    "\n",
    "    return df_x"
   ]
  },
  {
   "cell_type": "code",
   "execution_count": null,
   "metadata": {
    "id": "4U13LZ6Co2da"
   },
   "outputs": [],
   "source": [
    "# function to extract time features and encode them\n",
    "def date_values_extraction(new_df):\n",
    "  df = new_df.copy()\n",
    "  df['year'] = pd.DatetimeIndex(df['Open Time']).year\n",
    "  df['month'] = pd.DatetimeIndex(df['Open Time']).month\n",
    "  df['day'] = pd.DatetimeIndex(df['Open Time']).day\n",
    "  df['weekday'] = pd.DatetimeIndex(df['Open Time']).dayofweek\n",
    "\n",
    "\n",
    "  df['Open Time'] = pd.to_datetime(df['Open Time'])\n",
    "  df['minute'] = df['Open Time'].dt.minute\n",
    "  df['hour'] = df['Open Time'].dt.hour\n",
    "  df = encode_cyclicals(df.copy())\n",
    "  return df"
   ]
  },
  {
   "cell_type": "code",
   "execution_count": null,
   "metadata": {
    "id": "bdmufxKGn090"
   },
   "outputs": [],
   "source": [
    "# apply above function\n",
    "train_df = date_values_extraction(train_df)\n",
    "test_df = date_values_extraction(test_df)"
   ]
  },
  {
   "cell_type": "markdown",
   "metadata": {
    "id": "8rnL7gDeJlm1"
   },
   "source": [
    "## One hot coding the coins\n",
    "\n",
    "\n"
   ]
  },
  {
   "cell_type": "code",
   "execution_count": null,
   "metadata": {
    "id": "zKIWt-W25RjU"
   },
   "outputs": [],
   "source": [
    "# Applying one hot encoding on Crypto Coin \n",
    "def crypto_one_hot_encoding(df):\n",
    "  y_dummies = pd.get_dummies(df['Crypto'], prefix='Crypto', drop_first= False)\n",
    "  # creating a additional column if the model is used for new coin.\n",
    "  y_dummies['other_crypto'] =0\n",
    "  return y_dummies"
   ]
  },
  {
   "cell_type": "code",
   "execution_count": null,
   "metadata": {
    "id": "OJiLPMIHtdM5"
   },
   "outputs": [],
   "source": [
    "# roll data for one hot encoded dummy variables\n",
    "def rolling_hot_data(train_df,TIME_WINDOW):\n",
    "  train_hot = pd.DataFrame()\n",
    "  for col in train_df.columns:\n",
    "    if train_hot.empty:\n",
    "        train_hot = train_df[train_df[col]==1][:-TIME_WINDOW]      \n",
    "    else:\n",
    "      train_hot = pd.concat([train_hot, train_df[train_df[col]==1][:-TIME_WINDOW]], axis=0)\n",
    "  return train_hot\n",
    "      "
   ]
  },
  {
   "cell_type": "code",
   "execution_count": null,
   "metadata": {
    "id": "mb4VRSY15RgL"
   },
   "outputs": [],
   "source": [
    "# one hot encoding the coins\n",
    "train_onehot_data = crypto_one_hot_encoding(train_df)\n",
    "test_onehot_data = crypto_one_hot_encoding(test_df)"
   ]
  },
  {
   "cell_type": "code",
   "execution_count": null,
   "metadata": {
    "id": "qrs__e2R1aTe"
   },
   "outputs": [],
   "source": [
    "# roll the one hot encoded data\n",
    "TIME_WINDOW=28\n",
    "train_onehot_data = rolling_hot_data(train_onehot_data,TIME_WINDOW)\n",
    "test_onehot_data = rolling_hot_data(test_onehot_data,TIME_WINDOW)"
   ]
  },
  {
   "cell_type": "code",
   "execution_count": null,
   "metadata": {
    "colab": {
     "base_uri": "https://localhost:8080/"
    },
    "executionInfo": {
     "elapsed": 12,
     "status": "ok",
     "timestamp": 1668773131609,
     "user": {
      "displayName": "zhang yumeng",
      "userId": "05068513416601413411"
     },
     "user_tz": -60
    },
    "id": "9MguDPcm3ju0",
    "outputId": "8e2b848d-56e3-416d-9285-12e092b9dc49"
   },
   "outputs": [
    {
     "data": {
      "text/plain": [
       "(3341, 11)"
      ]
     },
     "execution_count": 181,
     "metadata": {},
     "output_type": "execute_result"
    }
   ],
   "source": [
    "test_onehot_data.shape"
   ]
  },
  {
   "cell_type": "code",
   "execution_count": null,
   "metadata": {
    "colab": {
     "base_uri": "https://localhost:8080/"
    },
    "executionInfo": {
     "elapsed": 11,
     "status": "ok",
     "timestamp": 1668773131609,
     "user": {
      "displayName": "zhang yumeng",
      "userId": "05068513416601413411"
     },
     "user_tz": -60
    },
    "id": "oKYAdapgv6J2",
    "outputId": "b7c333e8-119f-46ec-8c74-c767356b0cda"
   },
   "outputs": [
    {
     "data": {
      "text/plain": [
       "count    17115.000000\n",
       "mean         0.005533\n",
       "std          0.162083\n",
       "min         -0.564847\n",
       "25%         -0.025641\n",
       "50%          0.000000\n",
       "75%          0.028824\n",
       "max         19.058824\n",
       "Name: pct_change_1day, dtype: float64"
      ]
     },
     "execution_count": 182,
     "metadata": {},
     "output_type": "execute_result"
    }
   ],
   "source": [
    "train_df['pct_change_1day'].describe()"
   ]
  },
  {
   "cell_type": "code",
   "execution_count": null,
   "metadata": {
    "colab": {
     "base_uri": "https://localhost:8080/"
    },
    "executionInfo": {
     "elapsed": 9,
     "status": "ok",
     "timestamp": 1668773131610,
     "user": {
      "displayName": "zhang yumeng",
      "userId": "05068513416601413411"
     },
     "user_tz": -60
    },
    "id": "YrlcseANogFi",
    "outputId": "4e86abbe-a287-48db-fe00-7625bbbfaf75"
   },
   "outputs": [
    {
     "data": {
      "text/plain": [
       "count    3611.000000\n",
       "mean       -0.001452\n",
       "std         0.046840\n",
       "min        -0.204696\n",
       "25%        -0.026274\n",
       "50%         0.000000\n",
       "75%         0.024091\n",
       "max         0.344702\n",
       "Name: pct_change_1day, dtype: float64"
      ]
     },
     "execution_count": 183,
     "metadata": {},
     "output_type": "execute_result"
    }
   ],
   "source": [
    "test_df['pct_change_1day'].describe()"
   ]
  },
  {
   "cell_type": "markdown",
   "metadata": {
    "id": "RJJu4MROz45M"
   },
   "source": [
    "# Defining the Target Variable\n",
    "\n",
    "We devide the data into 3 classes, one is with return below 0, one is above 0 but below market rate of return, one is above market rate of return. The market rate of return we use here is annual return of S&P 500 index in 2021."
   ]
  },
  {
   "cell_type": "code",
   "execution_count": null,
   "metadata": {
    "id": "dJ8XaVT7K4oT"
   },
   "outputs": [],
   "source": [
    "# function to create classes\n",
    "def create_target(df, prob='Classification'):\n",
    "  if prob == 'Classification':\n",
    "    market_RoR = 26.89\n",
    "    market_RoR_1d = market_RoR/365\n",
    "    df['Target'] = np.where(df['pct_change_1day']>0, 1,0)\n",
    "    df['Target'] = np.where(df['pct_change_1day']>market_RoR_1d, 2,1)\n",
    "    df['Target'][df['Target']==1] = np.where(df['pct_change_1day'][df['Target']==1]>=0, 1,0)\n",
    "  elif prob == 'Regression': \n",
    "    df['Target'] = df['pct_change_1day']\n",
    "  return df"
   ]
  },
  {
   "cell_type": "code",
   "execution_count": null,
   "metadata": {
    "id": "mEMQYVY1o0UI"
   },
   "outputs": [],
   "source": [
    "# apply function\n",
    "train_df = create_target(train_df, 'Classification')\n",
    "test_df = create_target(test_df, 'Classification')"
   ]
  },
  {
   "cell_type": "code",
   "execution_count": null,
   "metadata": {
    "colab": {
     "base_uri": "https://localhost:8080/"
    },
    "executionInfo": {
     "elapsed": 347,
     "status": "ok",
     "timestamp": 1668773131950,
     "user": {
      "displayName": "zhang yumeng",
      "userId": "05068513416601413411"
     },
     "user_tz": -60
    },
    "id": "c4Ie_AL7o0Rj",
    "outputId": "013d8df9-58e5-4dbe-d359-0592b130cdd9"
   },
   "outputs": [
    {
     "data": {
      "text/plain": [
       "0    0.460088\n",
       "1    0.449343\n",
       "2    0.090569\n",
       "Name: Target, dtype: float64"
      ]
     },
     "execution_count": 186,
     "metadata": {},
     "output_type": "execute_result"
    }
   ],
   "source": [
    "train_df['Target'].value_counts(normalize=True)"
   ]
  },
  {
   "cell_type": "code",
   "execution_count": null,
   "metadata": {
    "colab": {
     "base_uri": "https://localhost:8080/"
    },
    "executionInfo": {
     "elapsed": 20,
     "status": "ok",
     "timestamp": 1668773131950,
     "user": {
      "displayName": "zhang yumeng",
      "userId": "05068513416601413411"
     },
     "user_tz": -60
    },
    "id": "37F5PDPxv6HX",
    "outputId": "907351b0-4c74-4f65-b828-6f20521c2dab"
   },
   "outputs": [
    {
     "data": {
      "text/plain": [
       "0    0.491025\n",
       "1    0.464513\n",
       "2    0.044463\n",
       "Name: Target, dtype: float64"
      ]
     },
     "execution_count": 187,
     "metadata": {},
     "output_type": "execute_result"
    }
   ],
   "source": [
    "test_df['Target'].value_counts(normalize=True)"
   ]
  },
  {
   "cell_type": "code",
   "execution_count": null,
   "metadata": {
    "id": "Jv24WNVi0HH9"
   },
   "outputs": [],
   "source": [
    "test_df.drop(['pct_change_1day'], axis=1, inplace=True) # droppping the column as we already extracted the target\n",
    "train_df.drop(['pct_change_1day'], axis=1, inplace=True) # droppping the column as we already extracted the target"
   ]
  },
  {
   "cell_type": "code",
   "execution_count": null,
   "metadata": {
    "colab": {
     "base_uri": "https://localhost:8080/"
    },
    "executionInfo": {
     "elapsed": 17,
     "status": "ok",
     "timestamp": 1668773131950,
     "user": {
      "displayName": "zhang yumeng",
      "userId": "05068513416601413411"
     },
     "user_tz": -60
    },
    "id": "cQTpbh-L070x",
    "outputId": "2ae49fd3-c6bb-49f1-e465-a3dc915f50d3"
   },
   "outputs": [
    {
     "data": {
      "text/plain": [
       "(17125, 32)"
      ]
     },
     "execution_count": 189,
     "metadata": {},
     "output_type": "execute_result"
    }
   ],
   "source": [
    "train_df.shape"
   ]
  },
  {
   "cell_type": "code",
   "execution_count": null,
   "metadata": {
    "colab": {
     "base_uri": "https://localhost:8080/"
    },
    "executionInfo": {
     "elapsed": 15,
     "status": "ok",
     "timestamp": 1668773131951,
     "user": {
      "displayName": "zhang yumeng",
      "userId": "05068513416601413411"
     },
     "user_tz": -60
    },
    "id": "OnVtBqtMpDcg",
    "outputId": "0867fc60-30f0-4d4c-8d5b-7d4665044bb6"
   },
   "outputs": [
    {
     "data": {
      "text/plain": [
       "(3621, 32)"
      ]
     },
     "execution_count": 190,
     "metadata": {},
     "output_type": "execute_result"
    }
   ],
   "source": [
    "test_df.shape"
   ]
  },
  {
   "cell_type": "code",
   "execution_count": null,
   "metadata": {
    "id": "8HSOHGMXp8NF"
   },
   "outputs": [],
   "source": [
    "# define the targets\n",
    "target = train_df['Target']\n",
    "test_target = test_df['Target']"
   ]
  },
  {
   "cell_type": "code",
   "execution_count": null,
   "metadata": {
    "id": "-KhK3XUG22in"
   },
   "outputs": [],
   "source": []
  },
  {
   "cell_type": "markdown",
   "metadata": {
    "id": "3Z8rWnno2KcX"
   },
   "source": [
    "# Drop  columns"
   ]
  },
  {
   "cell_type": "code",
   "execution_count": null,
   "metadata": {
    "id": "vWNE-GMXJDGN"
   },
   "outputs": [],
   "source": [
    "# drop unuseful columns\n",
    "train_df.drop(['Target','Open Time','train_test',],axis=1,inplace=True)\n",
    "test_df.drop(['Target','Open Time','train_test',],axis=1,inplace=True)"
   ]
  },
  {
   "cell_type": "code",
   "execution_count": null,
   "metadata": {
    "id": "3zckIkCgd79h"
   },
   "outputs": [],
   "source": [
    "# dropping the list of the columns \n",
    "\n",
    "drop_columns = ['Open','Close']\n",
    "\n",
    "\n",
    "if drop_columns:\n",
    "  norm_train_df = train_df.drop(drop_columns,axis=1)\n",
    "  norm_test_df = test_df.drop(drop_columns,axis=1)\n",
    "else:\n",
    "  norm_train_df = train_df\n",
    "  norm_test_df = test_df"
   ]
  },
  {
   "cell_type": "code",
   "execution_count": null,
   "metadata": {
    "colab": {
     "base_uri": "https://localhost:8080/"
    },
    "executionInfo": {
     "elapsed": 12,
     "status": "ok",
     "timestamp": 1668773131952,
     "user": {
      "displayName": "zhang yumeng",
      "userId": "05068513416601413411"
     },
     "user_tz": -60
    },
    "id": "QB96qqu5peVG",
    "outputId": "af4405bf-ac66-44ca-a8f4-e36fb400979b"
   },
   "outputs": [
    {
     "data": {
      "text/plain": [
       "Index(['High', 'Low', 'Volume', 'Crypto', 'volatility_kcw', 'trend_cci',\n",
       "       'volume_adi', 'momentum_ppo_hist', 'momentum_stoch', 'volatility_kcp',\n",
       "       'volume_em', 'volatility_dcw', 'volume_vpt', 'volatility_bbw',\n",
       "       'Total_Value', 'Total_Value_market', 'Value_Weight', '1_d_lag', 'year',\n",
       "       'month_sin', 'month_cos', 'day_sin', 'day_cos', 'dayofweek_sin',\n",
       "       'dayofweek_cos', 'hour_sin', 'hour_cos'],\n",
       "      dtype='object')"
      ]
     },
     "execution_count": 196,
     "metadata": {},
     "output_type": "execute_result"
    }
   ],
   "source": [
    "norm_train_df.columns"
   ]
  },
  {
   "cell_type": "code",
   "execution_count": null,
   "metadata": {
    "colab": {
     "base_uri": "https://localhost:8080/"
    },
    "executionInfo": {
     "elapsed": 12,
     "status": "ok",
     "timestamp": 1668773131954,
     "user": {
      "displayName": "zhang yumeng",
      "userId": "05068513416601413411"
     },
     "user_tz": -60
    },
    "id": "2oMXX61WnqPH",
    "outputId": "43c2cdd9-0f46-494b-9853-c6208b5cc827"
   },
   "outputs": [
    {
     "data": {
      "text/plain": [
       "(17125, 27)"
      ]
     },
     "execution_count": 197,
     "metadata": {},
     "output_type": "execute_result"
    }
   ],
   "source": [
    "norm_train_df.shape"
   ]
  },
  {
   "cell_type": "code",
   "execution_count": null,
   "metadata": {
    "colab": {
     "base_uri": "https://localhost:8080/"
    },
    "executionInfo": {
     "elapsed": 10,
     "status": "ok",
     "timestamp": 1668773131954,
     "user": {
      "displayName": "zhang yumeng",
      "userId": "05068513416601413411"
     },
     "user_tz": -60
    },
    "id": "qPykz7h4qoBQ",
    "outputId": "742e8669-37d5-4ff4-be92-04e4a35251ac"
   },
   "outputs": [
    {
     "data": {
      "text/plain": [
       "(17125,)"
      ]
     },
     "execution_count": 198,
     "metadata": {},
     "output_type": "execute_result"
    }
   ],
   "source": [
    "target.shape"
   ]
  },
  {
   "cell_type": "code",
   "execution_count": null,
   "metadata": {
    "colab": {
     "base_uri": "https://localhost:8080/",
     "height": 300
    },
    "executionInfo": {
     "elapsed": 222,
     "status": "ok",
     "timestamp": 1668773132167,
     "user": {
      "displayName": "zhang yumeng",
      "userId": "05068513416601413411"
     },
     "user_tz": -60
    },
    "id": "yf8i4WWe3mQy",
    "outputId": "ac22341a-c362-4625-ccd2-f9f1d63a6128"
   },
   "outputs": [
    {
     "data": {
      "text/html": [
       "\n",
       "  <div id=\"df-c1355191-3034-420c-850b-1dff27cb79ce\">\n",
       "    <div class=\"colab-df-container\">\n",
       "      <div>\n",
       "<style scoped>\n",
       "    .dataframe tbody tr th:only-of-type {\n",
       "        vertical-align: middle;\n",
       "    }\n",
       "\n",
       "    .dataframe tbody tr th {\n",
       "        vertical-align: top;\n",
       "    }\n",
       "\n",
       "    .dataframe thead th {\n",
       "        text-align: right;\n",
       "    }\n",
       "</style>\n",
       "<table border=\"1\" class=\"dataframe\">\n",
       "  <thead>\n",
       "    <tr style=\"text-align: right;\">\n",
       "      <th></th>\n",
       "      <th>High</th>\n",
       "      <th>Low</th>\n",
       "      <th>Volume</th>\n",
       "      <th>Crypto</th>\n",
       "      <th>volatility_kcw</th>\n",
       "      <th>trend_cci</th>\n",
       "      <th>volume_adi</th>\n",
       "      <th>momentum_ppo_hist</th>\n",
       "      <th>momentum_stoch</th>\n",
       "      <th>volatility_kcp</th>\n",
       "      <th>...</th>\n",
       "      <th>1_d_lag</th>\n",
       "      <th>year</th>\n",
       "      <th>month_sin</th>\n",
       "      <th>month_cos</th>\n",
       "      <th>day_sin</th>\n",
       "      <th>day_cos</th>\n",
       "      <th>dayofweek_sin</th>\n",
       "      <th>dayofweek_cos</th>\n",
       "      <th>hour_sin</th>\n",
       "      <th>hour_cos</th>\n",
       "    </tr>\n",
       "  </thead>\n",
       "  <tbody>\n",
       "    <tr>\n",
       "      <th>0</th>\n",
       "      <td>105.90</td>\n",
       "      <td>93.155</td>\n",
       "      <td>11008.524</td>\n",
       "      <td>BTC</td>\n",
       "      <td>NaN</td>\n",
       "      <td>NaN</td>\n",
       "      <td>NaN</td>\n",
       "      <td>NaN</td>\n",
       "      <td>NaN</td>\n",
       "      <td>NaN</td>\n",
       "      <td>...</td>\n",
       "      <td>NaN</td>\n",
       "      <td>2013</td>\n",
       "      <td>0.866025</td>\n",
       "      <td>-0.5</td>\n",
       "      <td>0.201299</td>\n",
       "      <td>0.979530</td>\n",
       "      <td>0.000000</td>\n",
       "      <td>1.000000</td>\n",
       "      <td>0.0</td>\n",
       "      <td>1.0</td>\n",
       "    </tr>\n",
       "    <tr>\n",
       "      <th>1</th>\n",
       "      <td>127.00</td>\n",
       "      <td>99.000</td>\n",
       "      <td>24187.398</td>\n",
       "      <td>BTC</td>\n",
       "      <td>25.170751</td>\n",
       "      <td>0.000000</td>\n",
       "      <td>9021.893541</td>\n",
       "      <td>0.000000</td>\n",
       "      <td>90.976854</td>\n",
       "      <td>0.636590</td>\n",
       "      <td>...</td>\n",
       "      <td>NaN</td>\n",
       "      <td>2013</td>\n",
       "      <td>0.866025</td>\n",
       "      <td>-0.5</td>\n",
       "      <td>0.394356</td>\n",
       "      <td>0.918958</td>\n",
       "      <td>0.781831</td>\n",
       "      <td>0.623490</td>\n",
       "      <td>0.0</td>\n",
       "      <td>1.0</td>\n",
       "    </tr>\n",
       "    <tr>\n",
       "      <th>2</th>\n",
       "      <td>146.88</td>\n",
       "      <td>101.511</td>\n",
       "      <td>31681.780</td>\n",
       "      <td>BTC</td>\n",
       "      <td>37.448244</td>\n",
       "      <td>66.666667</td>\n",
       "      <td>26326.249139</td>\n",
       "      <td>1.098643</td>\n",
       "      <td>88.228690</td>\n",
       "      <td>0.848816</td>\n",
       "      <td>...</td>\n",
       "      <td>0.174377</td>\n",
       "      <td>2013</td>\n",
       "      <td>0.866025</td>\n",
       "      <td>-0.5</td>\n",
       "      <td>0.571268</td>\n",
       "      <td>0.820763</td>\n",
       "      <td>0.974928</td>\n",
       "      <td>-0.222521</td>\n",
       "      <td>0.0</td>\n",
       "      <td>1.0</td>\n",
       "    </tr>\n",
       "    <tr>\n",
       "      <th>3</th>\n",
       "      <td>143.00</td>\n",
       "      <td>125.500</td>\n",
       "      <td>15035.206</td>\n",
       "      <td>BTC</td>\n",
       "      <td>50.324142</td>\n",
       "      <td>82.362074</td>\n",
       "      <td>28148.148762</td>\n",
       "      <td>1.848551</td>\n",
       "      <td>60.204746</td>\n",
       "      <td>0.698938</td>\n",
       "      <td>...</td>\n",
       "      <td>0.020192</td>\n",
       "      <td>2013</td>\n",
       "      <td>0.866025</td>\n",
       "      <td>-0.5</td>\n",
       "      <td>0.724793</td>\n",
       "      <td>0.688967</td>\n",
       "      <td>0.433884</td>\n",
       "      <td>-0.900969</td>\n",
       "      <td>0.0</td>\n",
       "      <td>1.0</td>\n",
       "    </tr>\n",
       "    <tr>\n",
       "      <th>4</th>\n",
       "      <td>145.00</td>\n",
       "      <td>135.119</td>\n",
       "      <td>11697.741</td>\n",
       "      <td>BTC</td>\n",
       "      <td>43.448762</td>\n",
       "      <td>98.871690</td>\n",
       "      <td>30522.852156</td>\n",
       "      <td>2.762857</td>\n",
       "      <td>79.063751</td>\n",
       "      <td>0.816463</td>\n",
       "      <td>...</td>\n",
       "      <td>0.080733</td>\n",
       "      <td>2013</td>\n",
       "      <td>0.866025</td>\n",
       "      <td>-0.5</td>\n",
       "      <td>0.848644</td>\n",
       "      <td>0.528964</td>\n",
       "      <td>-0.433884</td>\n",
       "      <td>-0.900969</td>\n",
       "      <td>0.0</td>\n",
       "      <td>1.0</td>\n",
       "    </tr>\n",
       "  </tbody>\n",
       "</table>\n",
       "<p>5 rows × 27 columns</p>\n",
       "</div>\n",
       "      <button class=\"colab-df-convert\" onclick=\"convertToInteractive('df-c1355191-3034-420c-850b-1dff27cb79ce')\"\n",
       "              title=\"Convert this dataframe to an interactive table.\"\n",
       "              style=\"display:none;\">\n",
       "        \n",
       "  <svg xmlns=\"http://www.w3.org/2000/svg\" height=\"24px\"viewBox=\"0 0 24 24\"\n",
       "       width=\"24px\">\n",
       "    <path d=\"M0 0h24v24H0V0z\" fill=\"none\"/>\n",
       "    <path d=\"M18.56 5.44l.94 2.06.94-2.06 2.06-.94-2.06-.94-.94-2.06-.94 2.06-2.06.94zm-11 1L8.5 8.5l.94-2.06 2.06-.94-2.06-.94L8.5 2.5l-.94 2.06-2.06.94zm10 10l.94 2.06.94-2.06 2.06-.94-2.06-.94-.94-2.06-.94 2.06-2.06.94z\"/><path d=\"M17.41 7.96l-1.37-1.37c-.4-.4-.92-.59-1.43-.59-.52 0-1.04.2-1.43.59L10.3 9.45l-7.72 7.72c-.78.78-.78 2.05 0 2.83L4 21.41c.39.39.9.59 1.41.59.51 0 1.02-.2 1.41-.59l7.78-7.78 2.81-2.81c.8-.78.8-2.07 0-2.86zM5.41 20L4 18.59l7.72-7.72 1.47 1.35L5.41 20z\"/>\n",
       "  </svg>\n",
       "      </button>\n",
       "      \n",
       "  <style>\n",
       "    .colab-df-container {\n",
       "      display:flex;\n",
       "      flex-wrap:wrap;\n",
       "      gap: 12px;\n",
       "    }\n",
       "\n",
       "    .colab-df-convert {\n",
       "      background-color: #E8F0FE;\n",
       "      border: none;\n",
       "      border-radius: 50%;\n",
       "      cursor: pointer;\n",
       "      display: none;\n",
       "      fill: #1967D2;\n",
       "      height: 32px;\n",
       "      padding: 0 0 0 0;\n",
       "      width: 32px;\n",
       "    }\n",
       "\n",
       "    .colab-df-convert:hover {\n",
       "      background-color: #E2EBFA;\n",
       "      box-shadow: 0px 1px 2px rgba(60, 64, 67, 0.3), 0px 1px 3px 1px rgba(60, 64, 67, 0.15);\n",
       "      fill: #174EA6;\n",
       "    }\n",
       "\n",
       "    [theme=dark] .colab-df-convert {\n",
       "      background-color: #3B4455;\n",
       "      fill: #D2E3FC;\n",
       "    }\n",
       "\n",
       "    [theme=dark] .colab-df-convert:hover {\n",
       "      background-color: #434B5C;\n",
       "      box-shadow: 0px 1px 3px 1px rgba(0, 0, 0, 0.15);\n",
       "      filter: drop-shadow(0px 1px 2px rgba(0, 0, 0, 0.3));\n",
       "      fill: #FFFFFF;\n",
       "    }\n",
       "  </style>\n",
       "\n",
       "      <script>\n",
       "        const buttonEl =\n",
       "          document.querySelector('#df-c1355191-3034-420c-850b-1dff27cb79ce button.colab-df-convert');\n",
       "        buttonEl.style.display =\n",
       "          google.colab.kernel.accessAllowed ? 'block' : 'none';\n",
       "\n",
       "        async function convertToInteractive(key) {\n",
       "          const element = document.querySelector('#df-c1355191-3034-420c-850b-1dff27cb79ce');\n",
       "          const dataTable =\n",
       "            await google.colab.kernel.invokeFunction('convertToInteractive',\n",
       "                                                     [key], {});\n",
       "          if (!dataTable) return;\n",
       "\n",
       "          const docLinkHtml = 'Like what you see? Visit the ' +\n",
       "            '<a target=\"_blank\" href=https://colab.research.google.com/notebooks/data_table.ipynb>data table notebook</a>'\n",
       "            + ' to learn more about interactive tables.';\n",
       "          element.innerHTML = '';\n",
       "          dataTable['output_type'] = 'display_data';\n",
       "          await google.colab.output.renderOutput(dataTable, element);\n",
       "          const docLink = document.createElement('div');\n",
       "          docLink.innerHTML = docLinkHtml;\n",
       "          element.appendChild(docLink);\n",
       "        }\n",
       "      </script>\n",
       "    </div>\n",
       "  </div>\n",
       "  "
      ],
      "text/plain": [
       "     High      Low     Volume Crypto  volatility_kcw  trend_cci    volume_adi  \\\n",
       "0  105.90   93.155  11008.524    BTC             NaN        NaN           NaN   \n",
       "1  127.00   99.000  24187.398    BTC       25.170751   0.000000   9021.893541   \n",
       "2  146.88  101.511  31681.780    BTC       37.448244  66.666667  26326.249139   \n",
       "3  143.00  125.500  15035.206    BTC       50.324142  82.362074  28148.148762   \n",
       "4  145.00  135.119  11697.741    BTC       43.448762  98.871690  30522.852156   \n",
       "\n",
       "   momentum_ppo_hist  momentum_stoch  volatility_kcp  ...   1_d_lag  year  \\\n",
       "0                NaN             NaN             NaN  ...       NaN  2013   \n",
       "1           0.000000       90.976854        0.636590  ...       NaN  2013   \n",
       "2           1.098643       88.228690        0.848816  ...  0.174377  2013   \n",
       "3           1.848551       60.204746        0.698938  ...  0.020192  2013   \n",
       "4           2.762857       79.063751        0.816463  ...  0.080733  2013   \n",
       "\n",
       "   month_sin  month_cos   day_sin   day_cos  dayofweek_sin  dayofweek_cos  \\\n",
       "0   0.866025       -0.5  0.201299  0.979530       0.000000       1.000000   \n",
       "1   0.866025       -0.5  0.394356  0.918958       0.781831       0.623490   \n",
       "2   0.866025       -0.5  0.571268  0.820763       0.974928      -0.222521   \n",
       "3   0.866025       -0.5  0.724793  0.688967       0.433884      -0.900969   \n",
       "4   0.866025       -0.5  0.848644  0.528964      -0.433884      -0.900969   \n",
       "\n",
       "   hour_sin  hour_cos  \n",
       "0       0.0       1.0  \n",
       "1       0.0       1.0  \n",
       "2       0.0       1.0  \n",
       "3       0.0       1.0  \n",
       "4       0.0       1.0  \n",
       "\n",
       "[5 rows x 27 columns]"
      ]
     },
     "execution_count": 200,
     "metadata": {},
     "output_type": "execute_result"
    }
   ],
   "source": [
    "norm_train_df.head()"
   ]
  },
  {
   "cell_type": "code",
   "execution_count": null,
   "metadata": {
    "colab": {
     "base_uri": "https://localhost:8080/",
     "height": 300
    },
    "executionInfo": {
     "elapsed": 8,
     "status": "ok",
     "timestamp": 1668773132168,
     "user": {
      "displayName": "zhang yumeng",
      "userId": "05068513416601413411"
     },
     "user_tz": -60
    },
    "id": "BonW88MeI2He",
    "outputId": "8b091318-0733-4c3b-ad94-9aea603d4b41"
   },
   "outputs": [
    {
     "data": {
      "text/html": [
       "\n",
       "  <div id=\"df-b29ce6fc-37f2-4953-83dc-d3b5fdd1cd28\">\n",
       "    <div class=\"colab-df-container\">\n",
       "      <div>\n",
       "<style scoped>\n",
       "    .dataframe tbody tr th:only-of-type {\n",
       "        vertical-align: middle;\n",
       "    }\n",
       "\n",
       "    .dataframe tbody tr th {\n",
       "        vertical-align: top;\n",
       "    }\n",
       "\n",
       "    .dataframe thead th {\n",
       "        text-align: right;\n",
       "    }\n",
       "</style>\n",
       "<table border=\"1\" class=\"dataframe\">\n",
       "  <thead>\n",
       "    <tr style=\"text-align: right;\">\n",
       "      <th></th>\n",
       "      <th>High</th>\n",
       "      <th>Low</th>\n",
       "      <th>Volume</th>\n",
       "      <th>Crypto</th>\n",
       "      <th>volatility_kcw</th>\n",
       "      <th>trend_cci</th>\n",
       "      <th>volume_adi</th>\n",
       "      <th>momentum_ppo_hist</th>\n",
       "      <th>momentum_stoch</th>\n",
       "      <th>volatility_kcp</th>\n",
       "      <th>...</th>\n",
       "      <th>1_d_lag</th>\n",
       "      <th>year</th>\n",
       "      <th>month_sin</th>\n",
       "      <th>month_cos</th>\n",
       "      <th>day_sin</th>\n",
       "      <th>day_cos</th>\n",
       "      <th>dayofweek_sin</th>\n",
       "      <th>dayofweek_cos</th>\n",
       "      <th>hour_sin</th>\n",
       "      <th>hour_cos</th>\n",
       "    </tr>\n",
       "  </thead>\n",
       "  <tbody>\n",
       "    <tr>\n",
       "      <th>0</th>\n",
       "      <td>48500.00</td>\n",
       "      <td>43287.44</td>\n",
       "      <td>38375.517</td>\n",
       "      <td>BTC</td>\n",
       "      <td>NaN</td>\n",
       "      <td>NaN</td>\n",
       "      <td>NaN</td>\n",
       "      <td>NaN</td>\n",
       "      <td>NaN</td>\n",
       "      <td>NaN</td>\n",
       "      <td>...</td>\n",
       "      <td>NaN</td>\n",
       "      <td>2021</td>\n",
       "      <td>-0.866025</td>\n",
       "      <td>0.5</td>\n",
       "      <td>0.201299</td>\n",
       "      <td>0.979530</td>\n",
       "      <td>-0.433884</td>\n",
       "      <td>-0.900969</td>\n",
       "      <td>0.0</td>\n",
       "      <td>1.0</td>\n",
       "    </tr>\n",
       "    <tr>\n",
       "      <th>1</th>\n",
       "      <td>48361.83</td>\n",
       "      <td>47438.00</td>\n",
       "      <td>12310.011</td>\n",
       "      <td>BTC</td>\n",
       "      <td>22.347013</td>\n",
       "      <td>0.000000</td>\n",
       "      <td>33454.083845</td>\n",
       "      <td>0.000000</td>\n",
       "      <td>93.587796</td>\n",
       "      <td>0.645293</td>\n",
       "      <td>...</td>\n",
       "      <td>NaN</td>\n",
       "      <td>2021</td>\n",
       "      <td>-0.866025</td>\n",
       "      <td>0.5</td>\n",
       "      <td>0.394356</td>\n",
       "      <td>0.918958</td>\n",
       "      <td>-0.974928</td>\n",
       "      <td>-0.222521</td>\n",
       "      <td>0.0</td>\n",
       "      <td>1.0</td>\n",
       "    </tr>\n",
       "    <tr>\n",
       "      <th>2</th>\n",
       "      <td>49300.00</td>\n",
       "      <td>47119.87</td>\n",
       "      <td>14411.104</td>\n",
       "      <td>BTC</td>\n",
       "      <td>12.991160</td>\n",
       "      <td>66.666667</td>\n",
       "      <td>26998.800050</td>\n",
       "      <td>-0.067370</td>\n",
       "      <td>83.840762</td>\n",
       "      <td>0.568863</td>\n",
       "      <td>...</td>\n",
       "      <td>-0.010548</td>\n",
       "      <td>2021</td>\n",
       "      <td>-0.866025</td>\n",
       "      <td>0.5</td>\n",
       "      <td>0.571268</td>\n",
       "      <td>0.820763</td>\n",
       "      <td>-0.781831</td>\n",
       "      <td>0.623490</td>\n",
       "      <td>0.0</td>\n",
       "      <td>1.0</td>\n",
       "    </tr>\n",
       "    <tr>\n",
       "      <th>3</th>\n",
       "      <td>49530.53</td>\n",
       "      <td>46895.80</td>\n",
       "      <td>25695.213</td>\n",
       "      <td>BTC</td>\n",
       "      <td>11.656914</td>\n",
       "      <td>71.870986</td>\n",
       "      <td>27316.816963</td>\n",
       "      <td>-0.029487</td>\n",
       "      <td>82.270281</td>\n",
       "      <td>0.621071</td>\n",
       "      <td>...</td>\n",
       "      <td>0.012092</td>\n",
       "      <td>2021</td>\n",
       "      <td>-0.866025</td>\n",
       "      <td>0.5</td>\n",
       "      <td>0.724793</td>\n",
       "      <td>0.688967</td>\n",
       "      <td>0.000000</td>\n",
       "      <td>1.000000</td>\n",
       "      <td>0.0</td>\n",
       "      <td>1.0</td>\n",
       "    </tr>\n",
       "    <tr>\n",
       "      <th>4</th>\n",
       "      <td>51922.00</td>\n",
       "      <td>49057.18</td>\n",
       "      <td>30764.491</td>\n",
       "      <td>BTC</td>\n",
       "      <td>11.452558</td>\n",
       "      <td>85.715360</td>\n",
       "      <td>47453.298136</td>\n",
       "      <td>0.129936</td>\n",
       "      <td>95.435113</td>\n",
       "      <td>0.761919</td>\n",
       "      <td>...</td>\n",
       "      <td>0.020972</td>\n",
       "      <td>2021</td>\n",
       "      <td>-0.866025</td>\n",
       "      <td>0.5</td>\n",
       "      <td>0.848644</td>\n",
       "      <td>0.528964</td>\n",
       "      <td>0.781831</td>\n",
       "      <td>0.623490</td>\n",
       "      <td>0.0</td>\n",
       "      <td>1.0</td>\n",
       "    </tr>\n",
       "  </tbody>\n",
       "</table>\n",
       "<p>5 rows × 27 columns</p>\n",
       "</div>\n",
       "      <button class=\"colab-df-convert\" onclick=\"convertToInteractive('df-b29ce6fc-37f2-4953-83dc-d3b5fdd1cd28')\"\n",
       "              title=\"Convert this dataframe to an interactive table.\"\n",
       "              style=\"display:none;\">\n",
       "        \n",
       "  <svg xmlns=\"http://www.w3.org/2000/svg\" height=\"24px\"viewBox=\"0 0 24 24\"\n",
       "       width=\"24px\">\n",
       "    <path d=\"M0 0h24v24H0V0z\" fill=\"none\"/>\n",
       "    <path d=\"M18.56 5.44l.94 2.06.94-2.06 2.06-.94-2.06-.94-.94-2.06-.94 2.06-2.06.94zm-11 1L8.5 8.5l.94-2.06 2.06-.94-2.06-.94L8.5 2.5l-.94 2.06-2.06.94zm10 10l.94 2.06.94-2.06 2.06-.94-2.06-.94-.94-2.06-.94 2.06-2.06.94z\"/><path d=\"M17.41 7.96l-1.37-1.37c-.4-.4-.92-.59-1.43-.59-.52 0-1.04.2-1.43.59L10.3 9.45l-7.72 7.72c-.78.78-.78 2.05 0 2.83L4 21.41c.39.39.9.59 1.41.59.51 0 1.02-.2 1.41-.59l7.78-7.78 2.81-2.81c.8-.78.8-2.07 0-2.86zM5.41 20L4 18.59l7.72-7.72 1.47 1.35L5.41 20z\"/>\n",
       "  </svg>\n",
       "      </button>\n",
       "      \n",
       "  <style>\n",
       "    .colab-df-container {\n",
       "      display:flex;\n",
       "      flex-wrap:wrap;\n",
       "      gap: 12px;\n",
       "    }\n",
       "\n",
       "    .colab-df-convert {\n",
       "      background-color: #E8F0FE;\n",
       "      border: none;\n",
       "      border-radius: 50%;\n",
       "      cursor: pointer;\n",
       "      display: none;\n",
       "      fill: #1967D2;\n",
       "      height: 32px;\n",
       "      padding: 0 0 0 0;\n",
       "      width: 32px;\n",
       "    }\n",
       "\n",
       "    .colab-df-convert:hover {\n",
       "      background-color: #E2EBFA;\n",
       "      box-shadow: 0px 1px 2px rgba(60, 64, 67, 0.3), 0px 1px 3px 1px rgba(60, 64, 67, 0.15);\n",
       "      fill: #174EA6;\n",
       "    }\n",
       "\n",
       "    [theme=dark] .colab-df-convert {\n",
       "      background-color: #3B4455;\n",
       "      fill: #D2E3FC;\n",
       "    }\n",
       "\n",
       "    [theme=dark] .colab-df-convert:hover {\n",
       "      background-color: #434B5C;\n",
       "      box-shadow: 0px 1px 3px 1px rgba(0, 0, 0, 0.15);\n",
       "      filter: drop-shadow(0px 1px 2px rgba(0, 0, 0, 0.3));\n",
       "      fill: #FFFFFF;\n",
       "    }\n",
       "  </style>\n",
       "\n",
       "      <script>\n",
       "        const buttonEl =\n",
       "          document.querySelector('#df-b29ce6fc-37f2-4953-83dc-d3b5fdd1cd28 button.colab-df-convert');\n",
       "        buttonEl.style.display =\n",
       "          google.colab.kernel.accessAllowed ? 'block' : 'none';\n",
       "\n",
       "        async function convertToInteractive(key) {\n",
       "          const element = document.querySelector('#df-b29ce6fc-37f2-4953-83dc-d3b5fdd1cd28');\n",
       "          const dataTable =\n",
       "            await google.colab.kernel.invokeFunction('convertToInteractive',\n",
       "                                                     [key], {});\n",
       "          if (!dataTable) return;\n",
       "\n",
       "          const docLinkHtml = 'Like what you see? Visit the ' +\n",
       "            '<a target=\"_blank\" href=https://colab.research.google.com/notebooks/data_table.ipynb>data table notebook</a>'\n",
       "            + ' to learn more about interactive tables.';\n",
       "          element.innerHTML = '';\n",
       "          dataTable['output_type'] = 'display_data';\n",
       "          await google.colab.output.renderOutput(dataTable, element);\n",
       "          const docLink = document.createElement('div');\n",
       "          docLink.innerHTML = docLinkHtml;\n",
       "          element.appendChild(docLink);\n",
       "        }\n",
       "      </script>\n",
       "    </div>\n",
       "  </div>\n",
       "  "
      ],
      "text/plain": [
       "       High       Low     Volume Crypto  volatility_kcw  trend_cci  \\\n",
       "0  48500.00  43287.44  38375.517    BTC             NaN        NaN   \n",
       "1  48361.83  47438.00  12310.011    BTC       22.347013   0.000000   \n",
       "2  49300.00  47119.87  14411.104    BTC       12.991160  66.666667   \n",
       "3  49530.53  46895.80  25695.213    BTC       11.656914  71.870986   \n",
       "4  51922.00  49057.18  30764.491    BTC       11.452558  85.715360   \n",
       "\n",
       "     volume_adi  momentum_ppo_hist  momentum_stoch  volatility_kcp  ...  \\\n",
       "0           NaN                NaN             NaN             NaN  ...   \n",
       "1  33454.083845           0.000000       93.587796        0.645293  ...   \n",
       "2  26998.800050          -0.067370       83.840762        0.568863  ...   \n",
       "3  27316.816963          -0.029487       82.270281        0.621071  ...   \n",
       "4  47453.298136           0.129936       95.435113        0.761919  ...   \n",
       "\n",
       "    1_d_lag  year  month_sin  month_cos   day_sin   day_cos  dayofweek_sin  \\\n",
       "0       NaN  2021  -0.866025        0.5  0.201299  0.979530      -0.433884   \n",
       "1       NaN  2021  -0.866025        0.5  0.394356  0.918958      -0.974928   \n",
       "2 -0.010548  2021  -0.866025        0.5  0.571268  0.820763      -0.781831   \n",
       "3  0.012092  2021  -0.866025        0.5  0.724793  0.688967       0.000000   \n",
       "4  0.020972  2021  -0.866025        0.5  0.848644  0.528964       0.781831   \n",
       "\n",
       "   dayofweek_cos  hour_sin  hour_cos  \n",
       "0      -0.900969       0.0       1.0  \n",
       "1      -0.222521       0.0       1.0  \n",
       "2       0.623490       0.0       1.0  \n",
       "3       1.000000       0.0       1.0  \n",
       "4       0.623490       0.0       1.0  \n",
       "\n",
       "[5 rows x 27 columns]"
      ]
     },
     "execution_count": 201,
     "metadata": {},
     "output_type": "execute_result"
    }
   ],
   "source": [
    "norm_test_df.head()"
   ]
  },
  {
   "cell_type": "code",
   "execution_count": null,
   "metadata": {
    "id": "9tNyTMFpI2E8"
   },
   "outputs": [],
   "source": []
  },
  {
   "cell_type": "markdown",
   "metadata": {
    "id": "mPDAgox7lTHX"
   },
   "source": [
    "# Roll the train and test data\n"
   ]
  },
  {
   "cell_type": "code",
   "execution_count": null,
   "metadata": {
    "ExecuteTime": {
     "end_time": "2019-05-02T15:26:03.169133Z",
     "start_time": "2019-05-02T15:26:03.165982Z"
    },
    "collapsed": true,
    "id": "T2cxnU-ElTHX"
   },
   "outputs": [],
   "source": [
    "# use past 28 days to forecast the next day\n",
    "TIME_WINDOW=28\n",
    "FORECAST_DISTANCE=1"
   ]
  },
  {
   "cell_type": "code",
   "execution_count": null,
   "metadata": {
    "id": "tzablAGIggN-"
   },
   "outputs": [],
   "source": [
    "from seglearn.transform import FeatureRep, SegmentXYForecast, last\n",
    "\n",
    "# function to roll data\n",
    "def Segment_multi(train_df, target):\n",
    "  master_df_x = pd.DataFrame()\n",
    "  master_df_y = pd.DataFrame()\n",
    "\n",
    "  crypto_coins = df['Crypto'].unique()\n",
    "\n",
    "  segmenter = SegmentXYForecast(width=TIME_WINDOW, step=1, y_func=last, forecast=FORECAST_DISTANCE)\n",
    "  for coin in crypto_coins:\n",
    "\n",
    "    coin_index = train_df[train_df['Crypto']==coin].index\n",
    "    X_train_rolled, y_train_rolled,_=segmenter.fit_transform([train_df.iloc[coin_index].drop(['Crypto'], axis=1).values],[target.iloc[coin_index].values])\n",
    "    \n",
    "  \n",
    "    if coin == 'BTC' :\n",
    "      master_df_x = X_train_rolled\n",
    "      master_df_y = y_train_rolled\n",
    "    else:\n",
    "      master_df_x = np.concatenate([master_df_x, X_train_rolled], axis=0)\n",
    "\n",
    "      master_df_y = np.concatenate([master_df_y, y_train_rolled], axis=0)\n",
    "    \n",
    "  return master_df_x, master_df_y"
   ]
  },
  {
   "cell_type": "code",
   "execution_count": null,
   "metadata": {
    "id": "uNHr6fIyggKj"
   },
   "outputs": [],
   "source": [
    "# roll train and test data\n",
    "train_roll, y_roll =  Segment_multi(norm_train_df.fillna(0), target)\n",
    "test_roll, y_test_roll =  Segment_multi(norm_test_df.fillna(0), test_target)"
   ]
  },
  {
   "cell_type": "code",
   "execution_count": null,
   "metadata": {
    "colab": {
     "base_uri": "https://localhost:8080/"
    },
    "executionInfo": {
     "elapsed": 12,
     "status": "ok",
     "timestamp": 1668773134143,
     "user": {
      "displayName": "zhang yumeng",
      "userId": "05068513416601413411"
     },
     "user_tz": -60
    },
    "id": "pZjxl_fCvqoJ",
    "outputId": "22ed62bd-c9fc-4793-cbfc-92d9d48a5949"
   },
   "outputs": [
    {
     "data": {
      "text/plain": [
       "Index(['High', 'Low', 'Volume', 'Crypto', 'volatility_kcw', 'trend_cci',\n",
       "       'volume_adi', 'momentum_ppo_hist', 'momentum_stoch', 'volatility_kcp',\n",
       "       'volume_em', 'volatility_dcw', 'volume_vpt', 'volatility_bbw',\n",
       "       'Total_Value', 'Total_Value_market', 'Value_Weight', '1_d_lag', 'year',\n",
       "       'month_sin', 'month_cos', 'day_sin', 'day_cos', 'dayofweek_sin',\n",
       "       'dayofweek_cos', 'hour_sin', 'hour_cos'],\n",
       "      dtype='object')"
      ]
     },
     "execution_count": 205,
     "metadata": {},
     "output_type": "execute_result"
    }
   ],
   "source": [
    "norm_train_df.columns"
   ]
  },
  {
   "cell_type": "code",
   "execution_count": null,
   "metadata": {
    "colab": {
     "base_uri": "https://localhost:8080/"
    },
    "executionInfo": {
     "elapsed": 12,
     "status": "ok",
     "timestamp": 1668773134145,
     "user": {
      "displayName": "zhang yumeng",
      "userId": "05068513416601413411"
     },
     "user_tz": -60
    },
    "id": "9JHutlan6A6O",
    "outputId": "af91f62a-459e-4c29-c5f5-137f9ee7754b"
   },
   "outputs": [
    {
     "data": {
      "text/plain": [
       "(16845, 28, 26)"
      ]
     },
     "execution_count": 206,
     "metadata": {},
     "output_type": "execute_result"
    }
   ],
   "source": [
    "train_roll.shape"
   ]
  },
  {
   "cell_type": "code",
   "execution_count": null,
   "metadata": {
    "colab": {
     "base_uri": "https://localhost:8080/"
    },
    "executionInfo": {
     "elapsed": 335,
     "status": "ok",
     "timestamp": 1668773137133,
     "user": {
      "displayName": "zhang yumeng",
      "userId": "05068513416601413411"
     },
     "user_tz": -60
    },
    "id": "AEQCp76HAcpd",
    "outputId": "1b479d56-1e54-4190-8f13-bf16c329ca01"
   },
   "outputs": [
    {
     "data": {
      "text/plain": [
       "(3341, 28, 26)"
      ]
     },
     "execution_count": 207,
     "metadata": {},
     "output_type": "execute_result"
    }
   ],
   "source": [
    "test_roll.shape"
   ]
  },
  {
   "cell_type": "markdown",
   "metadata": {
    "id": "KBn3Jo_03gI2"
   },
   "source": [
    "# Evaluation function"
   ]
  },
  {
   "cell_type": "code",
   "execution_count": null,
   "metadata": {
    "id": "cwgTcU5zrhAd"
   },
   "outputs": [],
   "source": [
    "from sklearn.metrics import accuracy_score, precision_score, recall_score, f1_score\n",
    "def generate_model_report(y_actual, y_predicted, metric_type):\n",
    "    print(\"==================Printing the {} metrics===================\".format(metric_type))\n",
    "    if metric_type=='micro':\n",
    "      print(\"Accuracy = \" , round(accuracy_score(y_actual, y_predicted),4))\n",
    "    print(\"Precision = \" ,round(precision_score(y_actual, y_predicted, average=metric_type),4))\n",
    "    print(\"Recall = \" ,round(recall_score(y_actual, y_predicted, average=metric_type),4))\n",
    "    print(\"F1 Score = \" ,round(f1_score(y_actual, y_predicted, average=metric_type),4))\n",
    "    print(\"=====================================\")"
   ]
  },
  {
   "cell_type": "code",
   "execution_count": null,
   "metadata": {
    "id": "yiDj8eWx8-xC"
   },
   "outputs": [],
   "source": []
  },
  {
   "cell_type": "markdown",
   "metadata": {
    "id": "TZpQCez6tlTl"
   },
   "source": [
    "# stateless LSTM model"
   ]
  },
  {
   "cell_type": "code",
   "execution_count": null,
   "metadata": {
    "id": "bGqFjOGvqxMS"
   },
   "outputs": [],
   "source": [
    "from tensorflow import keras\n",
    "from kerastuner.tuners import RandomSearch\n",
    "from tensorflow.keras.layers import Dense, Dropout, LSTM, Bidirectional, BatchNormalization, Input, concatenate\n",
    "from tensorflow.keras.models import Model\n",
    "from tensorflow.keras import backend as be\n",
    "from tensorflow.keras.callbacks import ModelCheckpoint, EarlyStopping\n",
    "import keras_tuner"
   ]
  },
  {
   "cell_type": "code",
   "execution_count": null,
   "metadata": {
    "colab": {
     "base_uri": "https://localhost:8080/"
    },
    "executionInfo": {
     "elapsed": 185673,
     "status": "ok",
     "timestamp": 1668765515226,
     "user": {
      "displayName": "zhang yumeng",
      "userId": "05068513416601413411"
     },
     "user_tz": -60
    },
    "id": "jzWOfqhhrXKr",
    "outputId": "a7ff92ff-c4d1-464e-f523-44af62ee9dc1"
   },
   "outputs": [
    {
     "name": "stdout",
     "output_type": "stream",
     "text": [
      "Epoch 1/20\n",
      "527/527 [==============================] - 12s 18ms/step - loss: 0.9503 - sparse_categorical_crossentropy: 0.9503 - val_loss: 0.8651 - val_sparse_categorical_crossentropy: 0.8651\n",
      "Epoch 2/20\n",
      "527/527 [==============================] - 9s 17ms/step - loss: 0.9288 - sparse_categorical_crossentropy: 0.9288 - val_loss: 0.8682 - val_sparse_categorical_crossentropy: 0.8682\n",
      "Epoch 3/20\n",
      "527/527 [==============================] - 10s 18ms/step - loss: 0.9257 - sparse_categorical_crossentropy: 0.9257 - val_loss: 0.8562 - val_sparse_categorical_crossentropy: 0.8562\n",
      "Epoch 4/20\n",
      "527/527 [==============================] - 9s 18ms/step - loss: 0.9244 - sparse_categorical_crossentropy: 0.9244 - val_loss: 0.8758 - val_sparse_categorical_crossentropy: 0.8758\n",
      "Epoch 5/20\n",
      "527/527 [==============================] - 9s 17ms/step - loss: 0.9234 - sparse_categorical_crossentropy: 0.9234 - val_loss: 0.8802 - val_sparse_categorical_crossentropy: 0.8802\n",
      "Epoch 6/20\n",
      "527/527 [==============================] - 9s 17ms/step - loss: 0.9232 - sparse_categorical_crossentropy: 0.9232 - val_loss: 0.8732 - val_sparse_categorical_crossentropy: 0.8732\n",
      "Epoch 7/20\n",
      "527/527 [==============================] - 9s 17ms/step - loss: 0.9224 - sparse_categorical_crossentropy: 0.9224 - val_loss: 0.8827 - val_sparse_categorical_crossentropy: 0.8827\n",
      "Epoch 8/20\n",
      "527/527 [==============================] - 9s 17ms/step - loss: 0.9218 - sparse_categorical_crossentropy: 0.9218 - val_loss: 0.8597 - val_sparse_categorical_crossentropy: 0.8597\n",
      "Epoch 9/20\n",
      "527/527 [==============================] - 9s 17ms/step - loss: 0.9217 - sparse_categorical_crossentropy: 0.9217 - val_loss: 0.8733 - val_sparse_categorical_crossentropy: 0.8733\n",
      "Epoch 10/20\n",
      "527/527 [==============================] - 9s 18ms/step - loss: 0.9216 - sparse_categorical_crossentropy: 0.9216 - val_loss: 0.8774 - val_sparse_categorical_crossentropy: 0.8774\n",
      "Epoch 11/20\n",
      "527/527 [==============================] - 9s 18ms/step - loss: 0.9209 - sparse_categorical_crossentropy: 0.9209 - val_loss: 0.8615 - val_sparse_categorical_crossentropy: 0.8615\n",
      "Epoch 12/20\n",
      "527/527 [==============================] - 9s 17ms/step - loss: 0.9205 - sparse_categorical_crossentropy: 0.9205 - val_loss: 0.8677 - val_sparse_categorical_crossentropy: 0.8677\n",
      "Epoch 13/20\n",
      "527/527 [==============================] - 9s 17ms/step - loss: 0.9208 - sparse_categorical_crossentropy: 0.9208 - val_loss: 0.8802 - val_sparse_categorical_crossentropy: 0.8802\n",
      "Epoch 14/20\n",
      "527/527 [==============================] - 9s 17ms/step - loss: 0.9206 - sparse_categorical_crossentropy: 0.9206 - val_loss: 0.8824 - val_sparse_categorical_crossentropy: 0.8824\n",
      "Epoch 15/20\n",
      "527/527 [==============================] - 9s 17ms/step - loss: 0.9205 - sparse_categorical_crossentropy: 0.9205 - val_loss: 0.8775 - val_sparse_categorical_crossentropy: 0.8775\n",
      "Epoch 16/20\n",
      "527/527 [==============================] - 9s 17ms/step - loss: 0.9203 - sparse_categorical_crossentropy: 0.9203 - val_loss: 0.8863 - val_sparse_categorical_crossentropy: 0.8863\n",
      "Epoch 17/20\n",
      "527/527 [==============================] - 10s 18ms/step - loss: 0.9204 - sparse_categorical_crossentropy: 0.9204 - val_loss: 0.8894 - val_sparse_categorical_crossentropy: 0.8894\n",
      "Epoch 18/20\n",
      "527/527 [==============================] - 9s 17ms/step - loss: 0.9207 - sparse_categorical_crossentropy: 0.9207 - val_loss: 0.8650 - val_sparse_categorical_crossentropy: 0.8650\n",
      "Epoch 19/20\n",
      "527/527 [==============================] - 9s 17ms/step - loss: 0.9198 - sparse_categorical_crossentropy: 0.9198 - val_loss: 0.8891 - val_sparse_categorical_crossentropy: 0.8891\n",
      "Epoch 20/20\n",
      "527/527 [==============================] - 9s 17ms/step - loss: 0.9201 - sparse_categorical_crossentropy: 0.9201 - val_loss: 0.8767 - val_sparse_categorical_crossentropy: 0.8767\n"
     ]
    },
    {
     "data": {
      "text/plain": [
       "<keras.callbacks.History at 0x7fd0140a6bd0>"
      ]
     },
     "execution_count": 139,
     "metadata": {},
     "output_type": "execute_result"
    }
   ],
   "source": [
    "# use 2 inputs because LSTM cannot process non-sequential data\n",
    "# so we use another dense layer to handle coin dummy data\n",
    "float_input = Input(shape=(train_roll.shape[1],train_roll.shape[2]))\n",
    "one_hot_input = Input(shape=(11,) )\n",
    "\n",
    "first_lstm = LSTM(60)(float_input)#,stateful=True\n",
    "# we also tried stateful/bidirectional LSTM but no improvement on the result\n",
    "first_dense = Dense(50)(one_hot_input)\n",
    "merge_one = concatenate([first_dense, first_lstm])\n",
    "dense_inner = Dense(10)(merge_one)\n",
    "dense_output = Dense(3, activation='softmax')(dense_inner)\n",
    "\n",
    "model = Model(inputs=[float_input, one_hot_input], outputs=dense_output)\n",
    "model.compile(loss='sparse_categorical_crossentropy', # we select it because it's multi-class classification\n",
    "              optimizer='Adam',\n",
    "              metrics=['sparse_categorical_crossentropy'])\n",
    "#model.summary()\n",
    "model.fit([train_roll,train_onehot_data], y_roll, epochs=20, \n",
    "          validation_data = ([test_roll,test_onehot_data], y_test_roll))#batch_size=BATCH_SIZE,"
   ]
  },
  {
   "cell_type": "code",
   "execution_count": null,
   "metadata": {
    "colab": {
     "base_uri": "https://localhost:8080/"
    },
    "executionInfo": {
     "elapsed": 2102,
     "status": "ok",
     "timestamp": 1668765517305,
     "user": {
      "displayName": "zhang yumeng",
      "userId": "05068513416601413411"
     },
     "user_tz": -60
    },
    "id": "vgQ9RWzlqxI5",
    "outputId": "ba289afa-561e-4bc7-eb73-1df5c505e08a"
   },
   "outputs": [
    {
     "name": "stdout",
     "output_type": "stream",
     "text": [
      "105/105 [==============================] - 1s 6ms/step\n"
     ]
    }
   ],
   "source": [
    "nn_pred=model.predict([test_roll,test_onehot_data])"
   ]
  },
  {
   "cell_type": "code",
   "execution_count": null,
   "metadata": {
    "id": "pRmGNrl927Pw"
   },
   "outputs": [],
   "source": [
    "# take argmax in each roll\n",
    "df = pd.DataFrame(nn_pred)\n",
    "nn_pred = df.idxmax(axis=1)"
   ]
  },
  {
   "cell_type": "code",
   "execution_count": null,
   "metadata": {
    "colab": {
     "base_uri": "https://localhost:8080/"
    },
    "executionInfo": {
     "elapsed": 8,
     "status": "ok",
     "timestamp": 1668765517306,
     "user": {
      "displayName": "zhang yumeng",
      "userId": "05068513416601413411"
     },
     "user_tz": -60
    },
    "id": "YSuur6vC2_FP",
    "outputId": "499e384f-4c0b-4adb-9fd2-7294516e9cc6"
   },
   "outputs": [
    {
     "name": "stdout",
     "output_type": "stream",
     "text": [
      "==================Printing the micro metrics===================\n",
      "Accuracy =  0.4975\n",
      "Precision =  0.4975\n",
      "Recall =  0.4975\n",
      "F1 Score =  0.4975\n",
      "=====================================\n",
      "==================Printing the macro metrics===================\n",
      "Precision =  0.3303\n",
      "Recall =  0.3434\n",
      "F1 Score =  0.3251\n",
      "=====================================\n",
      "==================Printing the weighted metrics===================\n",
      "Precision =  0.4733\n",
      "Recall =  0.4975\n",
      "F1 Score =  0.4686\n",
      "=====================================\n"
     ]
    }
   ],
   "source": [
    "# model reports\n",
    "generate_model_report(y_test_roll, nn_pred, 'micro')\n",
    "generate_model_report(y_test_roll, nn_pred, 'macro')\n",
    "generate_model_report(y_test_roll, nn_pred, 'weighted')"
   ]
  },
  {
   "cell_type": "code",
   "execution_count": null,
   "metadata": {
    "colab": {
     "base_uri": "https://localhost:8080/"
    },
    "executionInfo": {
     "elapsed": 1808544,
     "status": "ok",
     "timestamp": 1668767326185,
     "user": {
      "displayName": "zhang yumeng",
      "userId": "05068513416601413411"
     },
     "user_tz": -60
    },
    "id": "e8HKEqp96Arf",
    "outputId": "23a920b0-9ec3-46b8-b628-22c9c6036451"
   },
   "outputs": [
    {
     "name": "stdout",
     "output_type": "stream",
     "text": [
      "Trial 10 Complete [00h 03m 01s]\n",
      "val_sparse_categorical_accuracy: 0.5106255412101746\n",
      "\n",
      "Best val_sparse_categorical_accuracy So Far: 0.5157138705253601\n",
      "Total elapsed time: 00h 30m 07s\n"
     ]
    }
   ],
   "source": [
    "from tensorflow import keras\n",
    "from kerastuner.tuners import BayesianOptimization, RandomSearch\n",
    "from tensorflow.keras import Sequential\n",
    "from tensorflow.keras.layers import Dense, Dropout, LSTM, Bidirectional, BatchNormalization\n",
    "from tensorflow.keras import backend as be\n",
    "from tensorflow.keras.callbacks import ModelCheckpoint, EarlyStopping\n",
    "import keras_tuner\n",
    "\n",
    "\n",
    "column_count=len(norm_train_df.columns)\n",
    "TIME_WINDOW=28\n",
    "DROPOUT_RATE=0.3\n",
    "BATCH_SIZE = 32\n",
    "\n",
    "# function to wrap the model\n",
    "def build_model(hp):\n",
    "\n",
    "    be.clear_session()\n",
    "\n",
    "    float_input = Input(shape=(train_roll.shape[1],train_roll.shape[2] ))\n",
    "    one_hot_input = Input(shape=(11,) )\n",
    "\n",
    "\n",
    "\n",
    "    first_lstm = LSTM(units=hp.Int('units',min_value=32,\n",
    "                                    max_value=64,\n",
    "                                    step=2))(float_input)\n",
    "    first_dense = Dense(50)(one_hot_input)\n",
    "    merge_one = concatenate([first_lstm, first_dense])\n",
    "    dense_inner = Dense(10)(merge_one)\n",
    "    dense_output = Dense(3, activation='softmax')(dense_inner)\n",
    "\n",
    "\n",
    "\n",
    "    model = Model(inputs=[float_input, one_hot_input], outputs=dense_output)\n",
    "    model.compile(loss='sparse_categorical_crossentropy',\n",
    "                  optimizer='Adam',\n",
    "                  metrics=['sparse_categorical_accuracy'])\n",
    "\n",
    "    return model\n",
    "\n",
    "# run random search on the hyperparameters\n",
    "random_opt_tuner = RandomSearch(\n",
    "    build_model,\n",
    "    objective=keras_tuner.Objective('val_sparse_categorical_accuracy','max'),\n",
    "    # we tried to optimize on f1_macro, but nothing worked, the model didn't learn with customized f1 function\n",
    "    max_trials=10,\n",
    "    executions_per_trial=1,\n",
    "    project_name='kerastuner_random_poc',\n",
    "    overwrite=True)\n",
    "\n",
    "random_opt_tuner.search([train_roll,train_onehot_data], y_roll, epochs=20, batch_size=BATCH_SIZE,\n",
    "                    validation_data = ([test_roll,test_onehot_data], y_test_roll),verbose=1)#validation_split=0.2,\n",
    "\n",
    "\n",
    "random_opt_model_best_model = random_opt_tuner.get_best_models(num_models=1)\n",
    "model = random_opt_model_best_model[0]"
   ]
  },
  {
   "cell_type": "code",
   "execution_count": null,
   "metadata": {
    "colab": {
     "base_uri": "https://localhost:8080/"
    },
    "executionInfo": {
     "elapsed": 84319,
     "status": "ok",
     "timestamp": 1668767410495,
     "user": {
      "displayName": "zhang yumeng",
      "userId": "05068513416601413411"
     },
     "user_tz": -60
    },
    "id": "nHVF8WO06Aee",
    "outputId": "6ab6f8cf-fb74-4610-ffee-ac6077b01c57"
   },
   "outputs": [
    {
     "name": "stdout",
     "output_type": "stream",
     "text": [
      "Epoch 1/20\n",
      "527/527 [==============================] - 11s 17ms/step - loss: 0.9230 - sparse_categorical_accuracy: 0.4904 - val_loss: 0.8682 - val_sparse_categorical_accuracy: 0.4987\n",
      "Epoch 2/20\n",
      "527/527 [==============================] - 8s 15ms/step - loss: 0.9230 - sparse_categorical_accuracy: 0.4903 - val_loss: 0.8563 - val_sparse_categorical_accuracy: 0.5037\n",
      "Epoch 3/20\n",
      "527/527 [==============================] - 8s 15ms/step - loss: 0.9233 - sparse_categorical_accuracy: 0.4855 - val_loss: 0.8660 - val_sparse_categorical_accuracy: 0.4984\n",
      "Epoch 4/20\n",
      "527/527 [==============================] - 8s 15ms/step - loss: 0.9224 - sparse_categorical_accuracy: 0.4923 - val_loss: 0.8648 - val_sparse_categorical_accuracy: 0.5061\n",
      "Epoch 5/20\n",
      "527/527 [==============================] - 8s 16ms/step - loss: 0.9227 - sparse_categorical_accuracy: 0.4879 - val_loss: 0.8598 - val_sparse_categorical_accuracy: 0.5109\n",
      "Epoch 6/20\n",
      "527/527 [==============================] - 8s 15ms/step - loss: 0.9226 - sparse_categorical_accuracy: 0.4899 - val_loss: 0.8689 - val_sparse_categorical_accuracy: 0.5055\n",
      "Epoch 7/20\n",
      "527/527 [==============================] - 8s 16ms/step - loss: 0.9220 - sparse_categorical_accuracy: 0.4883 - val_loss: 0.8626 - val_sparse_categorical_accuracy: 0.5073\n",
      "Epoch 8/20\n",
      "527/527 [==============================] - 8s 15ms/step - loss: 0.9219 - sparse_categorical_accuracy: 0.4907 - val_loss: 0.8607 - val_sparse_categorical_accuracy: 0.4990\n",
      "Epoch 9/20\n",
      "527/527 [==============================] - 8s 15ms/step - loss: 0.9219 - sparse_categorical_accuracy: 0.4895 - val_loss: 0.8613 - val_sparse_categorical_accuracy: 0.5094\n",
      "Epoch 10/20\n",
      "527/527 [==============================] - 8s 15ms/step - loss: 0.9221 - sparse_categorical_accuracy: 0.4876 - val_loss: 0.8576 - val_sparse_categorical_accuracy: 0.5052\n"
     ]
    },
    {
     "data": {
      "text/plain": [
       "<keras.callbacks.History at 0x7fd0191cca10>"
      ]
     },
     "execution_count": 145,
     "metadata": {},
     "output_type": "execute_result"
    }
   ],
   "source": [
    "from tensorflow.keras.callbacks import EarlyStopping\n",
    "\n",
    "# fit the untuned model \n",
    "model_saver = ModelCheckpoint('/content/drive/MyDrive/MADS_23_DL_final_project/data/model_files/LSTM_daily', \n",
    "                            save_weights_only=True,\n",
    "                            monitor='val_sparse_categorical_accuracy',\n",
    "                            mode='max',\n",
    "                            save_best_only=True)\n",
    "early_stopping = EarlyStopping(monitor='val_sparse_categorical_accuracy', min_delta= 0.001, patience=5, baseline= 0.5)\n",
    "model.fit([train_roll,train_onehot_data], \n",
    "          y_roll, \n",
    "          epochs=50, \n",
    "          validation_data = ([test_roll, test_onehot_data], y_test_roll),\n",
    "          batch_size=BATCH_SIZE,\n",
    "          callbacks=[early_stopping,model_saver])"
   ]
  },
  {
   "cell_type": "code",
   "execution_count": null,
   "metadata": {
    "colab": {
     "base_uri": "https://localhost:8080/"
    },
    "executionInfo": {
     "elapsed": 1134,
     "status": "ok",
     "timestamp": 1668767411608,
     "user": {
      "displayName": "zhang yumeng",
      "userId": "05068513416601413411"
     },
     "user_tz": -60
    },
    "id": "58mQNanv6E8X",
    "outputId": "e354be77-22b3-4f5a-a882-f27532ccd87f"
   },
   "outputs": [
    {
     "name": "stdout",
     "output_type": "stream",
     "text": [
      "105/105 [==============================] - 1s 5ms/step\n"
     ]
    }
   ],
   "source": [
    "# predict with test data and get the argmax\n",
    "lstm_pred = model.predict([test_roll, test_onehot_data])\n",
    "df = pd.DataFrame(lstm_pred)\n",
    "lstm_pred = df.idxmax(axis=1)"
   ]
  },
  {
   "cell_type": "code",
   "execution_count": null,
   "metadata": {
    "colab": {
     "base_uri": "https://localhost:8080/"
    },
    "executionInfo": {
     "elapsed": 7,
     "status": "ok",
     "timestamp": 1668767411608,
     "user": {
      "displayName": "zhang yumeng",
      "userId": "05068513416601413411"
     },
     "user_tz": -60
    },
    "id": "PSVtzJc96E6T",
    "outputId": "a5ed148f-50d6-4af8-b4b2-3b0d4cf5c691"
   },
   "outputs": [
    {
     "name": "stdout",
     "output_type": "stream",
     "text": [
      "==================Printing the micro metrics===================\n",
      "Accuracy =  0.5052\n",
      "Precision =  0.5052\n",
      "Recall =  0.5052\n",
      "F1 Score =  0.5052\n",
      "=====================================\n",
      "==================Printing the macro metrics===================\n",
      "Precision =  0.3359\n",
      "Recall =  0.3501\n",
      "F1 Score =  0.338\n",
      "=====================================\n",
      "==================Printing the weighted metrics===================\n",
      "Precision =  0.4814\n",
      "Recall =  0.5052\n",
      "F1 Score =  0.4861\n",
      "=====================================\n"
     ]
    }
   ],
   "source": [
    "# model reports\n",
    "# there's a little bit increase of F1 macro\n",
    "generate_model_report(y_test_roll, lstm_pred, 'micro')\n",
    "generate_model_report(y_test_roll, lstm_pred, 'macro')\n",
    "generate_model_report(y_test_roll, lstm_pred, 'weighted')"
   ]
  },
  {
   "cell_type": "code",
   "execution_count": null,
   "metadata": {
    "id": "a-AmzSLelbR_"
   },
   "outputs": [],
   "source": []
  },
  {
   "cell_type": "code",
   "execution_count": null,
   "metadata": {
    "id": "024nZhSQ6E1X"
   },
   "outputs": [],
   "source": [
    "# this is actually the best LSTM we have but didn't get to save the notebook\n",
    "from tensorflow.keras.models import load_model\n",
    "model = load_model('/content/drive/MyDrive/MADS_23_DL_final_project/data/model_files/LSTM_daily/LSTM_tw28.h5')"
   ]
  },
  {
   "cell_type": "code",
   "execution_count": null,
   "metadata": {
    "colab": {
     "base_uri": "https://localhost:8080/"
    },
    "executionInfo": {
     "elapsed": 1833,
     "status": "ok",
     "timestamp": 1668773148251,
     "user": {
      "displayName": "zhang yumeng",
      "userId": "05068513416601413411"
     },
     "user_tz": -60
    },
    "id": "n_uPhNz5lZDI",
    "outputId": "13d38913-140b-4c16-bc4f-16283c30d43a"
   },
   "outputs": [
    {
     "name": "stdout",
     "output_type": "stream",
     "text": [
      "105/105 [==============================] - 1s 6ms/step\n"
     ]
    }
   ],
   "source": [
    "# predict and get argmax\n",
    "lstm_pred = model.predict([test_roll, test_onehot_data])\n",
    "df = pd.DataFrame(lstm_pred)\n",
    "lstm_pred = df.idxmax(axis=1)"
   ]
  },
  {
   "cell_type": "code",
   "execution_count": null,
   "metadata": {
    "colab": {
     "base_uri": "https://localhost:8080/"
    },
    "executionInfo": {
     "elapsed": 296,
     "status": "ok",
     "timestamp": 1668773151273,
     "user": {
      "displayName": "zhang yumeng",
      "userId": "05068513416601413411"
     },
     "user_tz": -60
    },
    "id": "TxdngI55lj_i",
    "outputId": "0ec5b07b-8d96-4db3-fbcf-f54695680506"
   },
   "outputs": [
    {
     "name": "stdout",
     "output_type": "stream",
     "text": [
      "==================Printing the micro metrics===================\n",
      "Accuracy =  0.5016\n",
      "Precision =  0.5016\n",
      "Recall =  0.5016\n",
      "F1 Score =  0.5016\n",
      "=====================================\n",
      "==================Printing the macro metrics===================\n",
      "Precision =  0.3337\n",
      "Recall =  0.349\n",
      "F1 Score =  0.3405\n",
      "=====================================\n",
      "==================Printing the weighted metrics===================\n",
      "Precision =  0.4783\n",
      "Recall =  0.5016\n",
      "F1 Score =  0.4887\n",
      "=====================================\n"
     ]
    }
   ],
   "source": [
    "# model reposts\n",
    "generate_model_report(y_test_roll, lstm_pred, 'micro')\n",
    "generate_model_report(y_test_roll, lstm_pred, 'macro')\n",
    "generate_model_report(y_test_roll, lstm_pred, 'weighted')"
   ]
  },
  {
   "cell_type": "code",
   "execution_count": null,
   "metadata": {
    "id": "NBiPjBx_lleh"
   },
   "outputs": [],
   "source": []
  },
  {
   "cell_type": "markdown",
   "metadata": {
    "id": "Hjlb3PktJ_Tc"
   },
   "source": [
    "## End of notebook"
   ]
  },
  {
   "cell_type": "code",
   "execution_count": null,
   "metadata": {
    "id": "sNjHiQ40_FE9"
   },
   "outputs": [],
   "source": []
  },
  {
   "cell_type": "code",
   "execution_count": null,
   "metadata": {
    "id": "TcIQJNMxvrA3"
   },
   "outputs": [],
   "source": []
  }
 ],
 "metadata": {
  "colab": {
   "machine_shape": "hm",
   "provenance": [
    {
     "file_id": "1_wDPuOYH9IdBdgUthBbwITMZ4csmyX05",
     "timestamp": 1668719486544
    },
    {
     "file_id": "1S-HxPmBOGKH6dP6RRDsa7Vn7WJseZexj",
     "timestamp": 1668710186348
    },
    {
     "file_id": "1y9fUkhjxSoWERnjK9GemyTmv4kEoOkRF",
     "timestamp": 1668703345817
    },
    {
     "file_id": "1d7FF32TPkJnNNE46qdWXIRDDEwAOZebX",
     "timestamp": 1668592023859
    },
    {
     "file_id": "1fbbswA7BtzkrTbSJ9QsMBLOOO68YyGJr",
     "timestamp": 1668368068051
    },
    {
     "file_id": "1DFuUTpiohkywipp4VecFaM-84Vwt4_AV",
     "timestamp": 1668176738508
    }
   ],
   "toc_visible": true
  },
  "gpuClass": "standard",
  "kernelspec": {
   "display_name": "Python 3 (ipykernel)",
   "language": "python",
   "name": "python3"
  },
  "language_info": {
   "codemirror_mode": {
    "name": "ipython",
    "version": 3
   },
   "file_extension": ".py",
   "mimetype": "text/x-python",
   "name": "python",
   "nbconvert_exporter": "python",
   "pygments_lexer": "ipython3",
   "version": "3.8.8"
  }
 },
 "nbformat": 4,
 "nbformat_minor": 1
}
